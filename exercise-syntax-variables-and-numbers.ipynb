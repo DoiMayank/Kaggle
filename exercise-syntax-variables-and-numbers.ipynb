{
 "cells": [
  {
   "cell_type": "markdown",
   "id": "63f806f0",
   "metadata": {
    "papermill": {
     "duration": 0.029454,
     "end_time": "2022-02-22T11:15:55.007193",
     "exception": false,
     "start_time": "2022-02-22T11:15:54.977739",
     "status": "completed"
    },
    "tags": []
   },
   "source": [
    "**This notebook is an exercise in the [Python](https://www.kaggle.com/learn/python) course.  You can reference the tutorial at [this link](https://www.kaggle.com/colinmorris/hello-python).**\n",
    "\n",
    "---\n"
   ]
  },
  {
   "cell_type": "markdown",
   "id": "1746f773",
   "metadata": {
    "papermill": {
     "duration": 0.027906,
     "end_time": "2022-02-22T11:15:55.063528",
     "exception": false,
     "start_time": "2022-02-22T11:15:55.035622",
     "status": "completed"
    },
    "tags": []
   },
   "source": [
    "Welcome to your first set of Python coding problems.  If this is your first time using Kaggle Notebooks, welcome! \n",
    "\n",
    "Notebooks are composed of blocks (called \"cells\") of text and code. Each of these is editable, though you'll mainly be editing the code cells to answer some questions.\n",
    "\n",
    "To get started, try running the code cell below (by pressing the ► button, or clicking on the cell and pressing ctrl+enter on your keyboard)."
   ]
  },
  {
   "cell_type": "code",
   "execution_count": 1,
   "id": "d193c02f",
   "metadata": {
    "execution": {
     "iopub.execute_input": "2022-02-22T11:15:55.127089Z",
     "iopub.status.busy": "2022-02-22T11:15:55.125910Z",
     "iopub.status.idle": "2022-02-22T11:15:55.136342Z",
     "shell.execute_reply": "2022-02-22T11:15:55.137019Z",
     "shell.execute_reply.started": "2022-02-17T08:45:56.028248Z"
    },
    "papermill": {
     "duration": 0.044888,
     "end_time": "2022-02-22T11:15:55.137303",
     "exception": false,
     "start_time": "2022-02-22T11:15:55.092415",
     "status": "completed"
    },
    "tags": []
   },
   "outputs": [
    {
     "name": "stdout",
     "output_type": "stream",
     "text": [
      "You've successfully run some Python code\n",
      "Congratulations!\n",
      "Kaggle\n"
     ]
    }
   ],
   "source": [
    "print(\"You've successfully run some Python code\")\n",
    "print(\"Congratulations!\")\n",
    "print (\"Kaggle\") "
   ]
  },
  {
   "cell_type": "markdown",
   "id": "0dd0df84",
   "metadata": {
    "papermill": {
     "duration": 0.028005,
     "end_time": "2022-02-22T11:15:55.194475",
     "exception": false,
     "start_time": "2022-02-22T11:15:55.166470",
     "status": "completed"
    },
    "tags": []
   },
   "source": []
  },
  {
   "cell_type": "code",
   "execution_count": 2,
   "id": "aff27633",
   "metadata": {
    "execution": {
     "iopub.execute_input": "2022-02-22T11:15:55.255899Z",
     "iopub.status.busy": "2022-02-22T11:15:55.255225Z",
     "iopub.status.idle": "2022-02-22T11:15:55.259283Z",
     "shell.execute_reply": "2022-02-22T11:15:55.258681Z",
     "shell.execute_reply.started": "2022-02-17T08:51:14.653884Z"
    },
    "papermill": {
     "duration": 0.036525,
     "end_time": "2022-02-22T11:15:55.259420",
     "exception": false,
     "start_time": "2022-02-22T11:15:55.222895",
     "status": "completed"
    },
    "tags": []
   },
   "outputs": [
    {
     "name": "stdout",
     "output_type": "stream",
     "text": [
      "6\n"
     ]
    }
   ],
   "source": [
    "M = 2\n",
    "K = 4\n",
    "X = M+K\n",
    "print (X)"
   ]
  },
  {
   "cell_type": "markdown",
   "id": "6768fdcf",
   "metadata": {
    "papermill": {
     "duration": 0.028536,
     "end_time": "2022-02-22T11:15:55.316510",
     "exception": false,
     "start_time": "2022-02-22T11:15:55.287974",
     "status": "completed"
    },
    "tags": []
   },
   "source": [
    "Try adding another line of code in the cell above and re-running it. \n",
    "\n",
    "Now let's get a little fancier:  Add a new code cell by clicking on an existing code cell, hitting the escape key, and then hitting the `a` or `b` key.  The `a` key will add a cell above the current cell, and `b` adds a cell below.\n",
    "\n",
    "Great! Now you know how to use Notebooks.\n",
    "\n",
    "Each hands-on exercise starts by setting up our feedback and code checking mechanism. Run the code cell below to do that. Then you'll be ready to move on to question 0."
   ]
  },
  {
   "cell_type": "code",
   "execution_count": 3,
   "id": "fcd30d37",
   "metadata": {
    "_kg_hide-input": true,
    "_kg_hide-output": true,
    "execution": {
     "iopub.execute_input": "2022-02-22T11:15:55.381510Z",
     "iopub.status.busy": "2022-02-22T11:15:55.379824Z",
     "iopub.status.idle": "2022-02-22T11:15:55.416779Z",
     "shell.execute_reply": "2022-02-22T11:15:55.416086Z",
     "shell.execute_reply.started": "2022-02-17T08:51:55.262092Z"
    },
    "papermill": {
     "duration": 0.071887,
     "end_time": "2022-02-22T11:15:55.416933",
     "exception": false,
     "start_time": "2022-02-22T11:15:55.345046",
     "status": "completed"
    },
    "tags": []
   },
   "outputs": [
    {
     "name": "stdout",
     "output_type": "stream",
     "text": [
      "Setup complete! You're ready to start question 0.\n"
     ]
    }
   ],
   "source": [
    "from learntools.core import binder; binder.bind(globals())\n",
    "from learntools.python.ex1 import *\n",
    "print(\"Setup complete! You're ready to start question 0.\")"
   ]
  },
  {
   "cell_type": "markdown",
   "id": "378c5f0e",
   "metadata": {
    "papermill": {
     "duration": 0.028702,
     "end_time": "2022-02-22T11:15:55.474923",
     "exception": false,
     "start_time": "2022-02-22T11:15:55.446221",
     "status": "completed"
    },
    "tags": []
   },
   "source": [
    "# 0.\n",
    "\n",
    "*This is a silly question intended as an introduction to the format we use for hands-on exercises throughout all Kaggle courses.*\n",
    "\n",
    "**What is your favorite color? **\n",
    "\n",
    "To complete this question, create a variable called `color` in the cell below with an appropriate value. The function call `q0.check()` (which we've already provided in the cell below) will check your answer."
   ]
  },
  {
   "cell_type": "code",
   "execution_count": 4,
   "id": "58ec97a1",
   "metadata": {
    "execution": {
     "iopub.execute_input": "2022-02-22T11:15:55.538234Z",
     "iopub.status.busy": "2022-02-22T11:15:55.537500Z",
     "iopub.status.idle": "2022-02-22T11:15:55.545308Z",
     "shell.execute_reply": "2022-02-22T11:15:55.545813Z",
     "shell.execute_reply.started": "2022-02-17T08:55:32.999061Z"
    },
    "papermill": {
     "duration": 0.041968,
     "end_time": "2022-02-22T11:15:55.545991",
     "exception": false,
     "start_time": "2022-02-22T11:15:55.504023",
     "status": "completed"
    },
    "tags": []
   },
   "outputs": [
    {
     "data": {
      "application/javascript": [
       "parent.postMessage({\"jupyterEvent\": \"custom.exercise_interaction\", \"data\": {\"outcomeType\": 1, \"valueTowardsCompletion\": 0.25, \"interactionType\": 1, \"questionType\": 2, \"questionId\": \"0_ExerciseFormatTutorial\", \"learnToolsVersion\": \"0.3.4\", \"failureMessage\": \"\", \"exceptionClass\": \"\", \"trace\": \"\"}}, \"*\")"
      ],
      "text/plain": [
       "<IPython.core.display.Javascript object>"
      ]
     },
     "metadata": {},
     "output_type": "display_data"
    },
    {
     "data": {
      "text/markdown": [
       "<span style=\"color:#33cc33\">Correct:</span> What?! You got it right without needing a hint or anything? Drats. Well hey, you should still continue to the next step to get some practice asking for a hint and checking solutions. (Even though you obviously don't need any help here.)"
      ],
      "text/plain": [
       "Correct: What?! You got it right without needing a hint or anything? Drats. Well hey, you should still continue to the next step to get some practice asking for a hint and checking solutions. (Even though you obviously don't need any help here.)"
      ]
     },
     "metadata": {},
     "output_type": "display_data"
    }
   ],
   "source": [
    "# create a variable called color with an appropriate value on the line below\n",
    "# (Remember, strings in Python must be enclosed in 'single' or \"double\" quotes)\n",
    "____\n",
    "color = \"blue\"\n",
    "# Check your answer\n",
    "q0.check()"
   ]
  },
  {
   "cell_type": "code",
   "execution_count": null,
   "id": "ddb28d7b",
   "metadata": {
    "papermill": {
     "duration": 0.029761,
     "end_time": "2022-02-22T11:15:55.606038",
     "exception": false,
     "start_time": "2022-02-22T11:15:55.576277",
     "status": "completed"
    },
    "tags": []
   },
   "outputs": [],
   "source": []
  },
  {
   "cell_type": "markdown",
   "id": "85dcd493",
   "metadata": {
    "papermill": {
     "duration": 0.02963,
     "end_time": "2022-02-22T11:15:55.665641",
     "exception": false,
     "start_time": "2022-02-22T11:15:55.636011",
     "status": "completed"
    },
    "tags": []
   },
   "source": [
    "Didn't get the right answer? How do you not even know your own favorite color?!\n",
    "\n",
    "Delete the `#` in the line below to make one of the lines run. You can choose between getting a hint or the full answer by choosing which line to remove the `#` from. \n",
    "\n",
    "Removing the `#` is called uncommenting, because it changes that line from a \"comment\" which Python doesn't run to code, which Python does run."
   ]
  },
  {
   "cell_type": "code",
   "execution_count": 5,
   "id": "587dcb69",
   "metadata": {
    "execution": {
     "iopub.execute_input": "2022-02-22T11:15:55.729542Z",
     "iopub.status.busy": "2022-02-22T11:15:55.728913Z",
     "iopub.status.idle": "2022-02-22T11:15:55.734050Z",
     "shell.execute_reply": "2022-02-22T11:15:55.734581Z",
     "shell.execute_reply.started": "2022-02-17T08:55:52.021357Z"
    },
    "papermill": {
     "duration": 0.038279,
     "end_time": "2022-02-22T11:15:55.734768",
     "exception": false,
     "start_time": "2022-02-22T11:15:55.696489",
     "status": "completed"
    },
    "tags": []
   },
   "outputs": [
    {
     "data": {
      "application/javascript": [
       "parent.postMessage({\"jupyterEvent\": \"custom.exercise_interaction\", \"data\": {\"interactionType\": 2, \"questionType\": 2, \"questionId\": \"0_ExerciseFormatTutorial\", \"learnToolsVersion\": \"0.3.4\", \"valueTowardsCompletion\": 0.0, \"failureMessage\": \"\", \"exceptionClass\": \"\", \"trace\": \"\", \"outcomeType\": 4}}, \"*\")"
      ],
      "text/plain": [
       "<IPython.core.display.Javascript object>"
      ]
     },
     "metadata": {},
     "output_type": "display_data"
    },
    {
     "data": {
      "text/markdown": [
       "<span style=\"color:#3366cc\">Hint:</span> Your favorite color rhymes with *glue*."
      ],
      "text/plain": [
       "Hint: Your favorite color rhymes with *glue*."
      ]
     },
     "metadata": {},
     "output_type": "display_data"
    }
   ],
   "source": [
    "q0.hint()\n",
    "#q0.solution()"
   ]
  },
  {
   "cell_type": "markdown",
   "id": "abc0c98e",
   "metadata": {
    "papermill": {
     "duration": 0.030716,
     "end_time": "2022-02-22T11:15:55.796826",
     "exception": false,
     "start_time": "2022-02-22T11:15:55.766110",
     "status": "completed"
    },
    "tags": []
   },
   "source": [
    "The upcoming questions work the same way. The only thing that will change are the question numbers. For the next question, you'll call `q1.check()`, `q1.hint()`, `q1.solution()`, for question 2, you'll call `q2.check()`, and so on."
   ]
  },
  {
   "cell_type": "markdown",
   "id": "94b65634",
   "metadata": {
    "papermill": {
     "duration": 0.030964,
     "end_time": "2022-02-22T11:15:55.858820",
     "exception": false,
     "start_time": "2022-02-22T11:15:55.827856",
     "status": "completed"
    },
    "tags": []
   },
   "source": [
    "<hr/>\n",
    "\n",
    "# 1.\n",
    "\n",
    "Complete the code below. In case it's helpful, here is the table of available arithmetic operations:\n",
    "\n",
    "\n",
    "\n",
    "| Operator     | Name           | Description                                            |\n",
    "|--------------|----------------|--------------------------------------------------------|\n",
    "| ``a + b``    | Addition       | Sum of ``a`` and ``b``                                 |\n",
    "| ``a - b``    | Subtraction    | Difference of ``a`` and ``b``                          |\n",
    "| ``a * b``    | Multiplication | Product of ``a`` and ``b``                             |\n",
    "| ``a / b``    | True division  | Quotient of ``a`` and ``b``                            |\n",
    "| ``a // b``   | Floor division | Quotient of ``a`` and ``b``, removing fractional parts |\n",
    "| ``a % b``    | Modulus        | Integer remainder after division of ``a`` by ``b``     |\n",
    "| ``a ** b``   | Exponentiation | ``a`` raised to the power of ``b``                     |\n",
    "| ``-a``       | Negation       | The negative of ``a``                                  |\n",
    "\n",
    "<span style=\"display:none\"></span>\n"
   ]
  },
  {
   "cell_type": "code",
   "execution_count": 6,
   "id": "8e0e0ecf",
   "metadata": {
    "execution": {
     "iopub.execute_input": "2022-02-22T11:15:55.925422Z",
     "iopub.status.busy": "2022-02-22T11:15:55.924738Z",
     "iopub.status.idle": "2022-02-22T11:15:55.932016Z",
     "shell.execute_reply": "2022-02-22T11:15:55.932517Z",
     "shell.execute_reply.started": "2022-02-17T08:56:09.334683Z"
    },
    "papermill": {
     "duration": 0.042488,
     "end_time": "2022-02-22T11:15:55.932707",
     "exception": false,
     "start_time": "2022-02-22T11:15:55.890219",
     "status": "completed"
    },
    "tags": []
   },
   "outputs": [
    {
     "data": {
      "application/javascript": [
       "parent.postMessage({\"jupyterEvent\": \"custom.exercise_interaction\", \"data\": {\"outcomeType\": 1, \"valueTowardsCompletion\": 0.25, \"interactionType\": 1, \"questionType\": 1, \"questionId\": \"1_CircleArea\", \"learnToolsVersion\": \"0.3.4\", \"failureMessage\": \"\", \"exceptionClass\": \"\", \"trace\": \"\"}}, \"*\")"
      ],
      "text/plain": [
       "<IPython.core.display.Javascript object>"
      ]
     },
     "metadata": {},
     "output_type": "display_data"
    },
    {
     "data": {
      "text/markdown": [
       "<span style=\"color:#33cc33\">Correct</span>"
      ],
      "text/plain": [
       "Correct"
      ]
     },
     "metadata": {},
     "output_type": "display_data"
    }
   ],
   "source": [
    "pi = 3.14159 # approximate\n",
    "diameter = 3\n",
    "\n",
    "# Create a variable called 'radius' equal to half the diameter\n",
    "radius = diameter/2\n",
    "____\n",
    "\n",
    "# Create a variable called 'area', using the formula for the area of a circle: pi times the radius squared\n",
    "area = pi*(radius)*radius\n",
    "____\n",
    "\n",
    "# Check your answer\n",
    "q1.check()"
   ]
  },
  {
   "cell_type": "code",
   "execution_count": 7,
   "id": "0bf89e09",
   "metadata": {
    "execution": {
     "iopub.execute_input": "2022-02-22T11:15:56.001541Z",
     "iopub.status.busy": "2022-02-22T11:15:56.000845Z",
     "iopub.status.idle": "2022-02-22T11:15:56.007570Z",
     "shell.execute_reply": "2022-02-22T11:15:56.008155Z"
    },
    "papermill": {
     "duration": 0.043023,
     "end_time": "2022-02-22T11:15:56.008321",
     "exception": false,
     "start_time": "2022-02-22T11:15:55.965298",
     "status": "completed"
    },
    "tags": []
   },
   "outputs": [
    {
     "data": {
      "application/javascript": [
       "parent.postMessage({\"jupyterEvent\": \"custom.exercise_interaction\", \"data\": {\"outcomeType\": 1, \"valueTowardsCompletion\": 0.25, \"interactionType\": 1, \"questionType\": 1, \"questionId\": \"1_CircleArea\", \"learnToolsVersion\": \"0.3.4\", \"failureMessage\": \"\", \"exceptionClass\": \"\", \"trace\": \"\"}}, \"*\")"
      ],
      "text/plain": [
       "<IPython.core.display.Javascript object>"
      ]
     },
     "metadata": {},
     "output_type": "display_data"
    },
    {
     "data": {
      "text/markdown": [
       "<span style=\"color:#33cc33\">Correct</span>"
      ],
      "text/plain": [
       "Correct"
      ]
     },
     "metadata": {},
     "output_type": "display_data"
    }
   ],
   "source": [
    "# Uncomment and run the lines below if you need help.\n",
    "#q1.hint()\n",
    "#q1.solution()\n",
    "pi = 3.14159 # approximate\n",
    "diameter = 3\n",
    "\n",
    "# Create a variable called 'radius' equal to half the diameter\n",
    "radius = diameter/2\n",
    "____\n",
    "\n",
    "# Create a variable called 'area', using the formula for the area of a circle: pi times the radius squared\n",
    "area = pi*(radius)*radius\n",
    "____\n",
    "\n",
    "# Check your answer\n",
    "q1.check()"
   ]
  },
  {
   "cell_type": "markdown",
   "id": "40b85dd3",
   "metadata": {
    "papermill": {
     "duration": 0.033463,
     "end_time": "2022-02-22T11:15:56.075630",
     "exception": false,
     "start_time": "2022-02-22T11:15:56.042167",
     "status": "completed"
    },
    "tags": []
   },
   "source": [
    "<hr/>\n",
    "\n",
    "# 2.\n",
    "\n",
    "Add code to the following cell to swap variables `a` and `b` (so that `a` refers to the object previously referred to by `b` and vice versa)."
   ]
  },
  {
   "cell_type": "code",
   "execution_count": 8,
   "id": "b43d928e",
   "metadata": {
    "execution": {
     "iopub.execute_input": "2022-02-22T11:15:56.147073Z",
     "iopub.status.busy": "2022-02-22T11:15:56.146440Z",
     "iopub.status.idle": "2022-02-22T11:15:56.153666Z",
     "shell.execute_reply": "2022-02-22T11:15:56.154239Z",
     "shell.execute_reply.started": "2022-02-17T08:56:32.301262Z"
    },
    "papermill": {
     "duration": 0.044596,
     "end_time": "2022-02-22T11:15:56.154418",
     "exception": false,
     "start_time": "2022-02-22T11:15:56.109822",
     "status": "completed"
    },
    "tags": []
   },
   "outputs": [
    {
     "data": {
      "application/javascript": [
       "parent.postMessage({\"jupyterEvent\": \"custom.exercise_interaction\", \"data\": {\"outcomeType\": 1, \"valueTowardsCompletion\": 0.25, \"interactionType\": 1, \"questionType\": 2, \"questionId\": \"2_VariableSwap\", \"learnToolsVersion\": \"0.3.4\", \"failureMessage\": \"\", \"exceptionClass\": \"\", \"trace\": \"\"}}, \"*\")"
      ],
      "text/plain": [
       "<IPython.core.display.Javascript object>"
      ]
     },
     "metadata": {},
     "output_type": "display_data"
    },
    {
     "data": {
      "text/markdown": [
       "<span style=\"color:#33cc33\">Correct:</span> \n",
       "\n",
       "The most straightforward solution is to use a third variable to temporarily store one of the old values. e.g.:\n",
       "\n",
       "    tmp = a\n",
       "    a = b\n",
       "    b = tmp\n",
       "\n",
       "If you've read lots of Python code, you might have seen the following trick to swap two variables in one line:\n",
       "\n",
       "    a, b = b, a\n",
       "\n",
       "We'll demystify this bit of Python magic later when we talk about *tuples*."
      ],
      "text/plain": [
       "Correct: \n",
       "\n",
       "The most straightforward solution is to use a third variable to temporarily store one of the old values. e.g.:\n",
       "\n",
       "    tmp = a\n",
       "    a = b\n",
       "    b = tmp\n",
       "\n",
       "If you've read lots of Python code, you might have seen the following trick to swap two variables in one line:\n",
       "\n",
       "    a, b = b, a\n",
       "\n",
       "We'll demystify this bit of Python magic later when we talk about *tuples*."
      ]
     },
     "metadata": {},
     "output_type": "display_data"
    }
   ],
   "source": [
    "########### Setup code - don't touch this part ######################\n",
    "# If you're curious, these are examples of lists. We'll talk about \n",
    "# them in depth a few lessons from now. For now, just know that they're\n",
    "# yet another type of Python object, like int or float.\n",
    "a = [1, 2, 3]\n",
    "b = [3, 2, 1]\n",
    "q2.store_original_ids()\n",
    "######################################################################\n",
    "\n",
    "# Your code goes here. Swap the values to which a and b refer.\n",
    "a , b = b, a\n",
    "# If you get stuck, you can always uncomment one or both of the lines in\n",
    "# the next cell for a hint, or to peek at the solution.\n",
    "\n",
    "######################################################################\n",
    "\n",
    "# Check your answer\n",
    "q2.check()"
   ]
  },
  {
   "cell_type": "code",
   "execution_count": 9,
   "id": "8403d2fd",
   "metadata": {
    "execution": {
     "iopub.execute_input": "2022-02-22T11:15:56.228648Z",
     "iopub.status.busy": "2022-02-22T11:15:56.227954Z",
     "iopub.status.idle": "2022-02-22T11:15:56.231092Z",
     "shell.execute_reply": "2022-02-22T11:15:56.231663Z"
    },
    "papermill": {
     "duration": 0.041836,
     "end_time": "2022-02-22T11:15:56.231851",
     "exception": false,
     "start_time": "2022-02-22T11:15:56.190015",
     "status": "completed"
    },
    "tags": []
   },
   "outputs": [],
   "source": [
    "#q2.hint()"
   ]
  },
  {
   "cell_type": "code",
   "execution_count": 10,
   "id": "a6477810",
   "metadata": {
    "execution": {
     "iopub.execute_input": "2022-02-22T11:15:56.306755Z",
     "iopub.status.busy": "2022-02-22T11:15:56.306123Z",
     "iopub.status.idle": "2022-02-22T11:15:56.308806Z",
     "shell.execute_reply": "2022-02-22T11:15:56.309388Z"
    },
    "papermill": {
     "duration": 0.041337,
     "end_time": "2022-02-22T11:15:56.309576",
     "exception": false,
     "start_time": "2022-02-22T11:15:56.268239",
     "status": "completed"
    },
    "tags": []
   },
   "outputs": [],
   "source": [
    "#q2.solution()\n"
   ]
  },
  {
   "cell_type": "markdown",
   "id": "8bc3a937",
   "metadata": {
    "papermill": {
     "duration": 0.035049,
     "end_time": "2022-02-22T11:15:56.380018",
     "exception": false,
     "start_time": "2022-02-22T11:15:56.344969",
     "status": "completed"
    },
    "tags": []
   },
   "source": [
    "<hr/>\n",
    "\n",
    "# 3a.\n",
    "\n",
    "Add parentheses to the following expression so that it evaluates to 1."
   ]
  },
  {
   "cell_type": "code",
   "execution_count": 11,
   "id": "759cebca",
   "metadata": {
    "execution": {
     "iopub.execute_input": "2022-02-22T11:15:56.453843Z",
     "iopub.status.busy": "2022-02-22T11:15:56.453176Z",
     "iopub.status.idle": "2022-02-22T11:15:56.458044Z",
     "shell.execute_reply": "2022-02-22T11:15:56.458657Z",
     "shell.execute_reply.started": "2022-02-17T08:56:42.488601Z"
    },
    "papermill": {
     "duration": 0.043538,
     "end_time": "2022-02-22T11:15:56.458828",
     "exception": false,
     "start_time": "2022-02-22T11:15:56.415290",
     "status": "completed"
    },
    "tags": []
   },
   "outputs": [
    {
     "data": {
      "text/plain": [
       "1"
      ]
     },
     "execution_count": 11,
     "metadata": {},
     "output_type": "execute_result"
    }
   ],
   "source": [
    "(5 - 3) // 2"
   ]
  },
  {
   "cell_type": "code",
   "execution_count": 12,
   "id": "43b0a3a5",
   "metadata": {
    "execution": {
     "iopub.execute_input": "2022-02-22T11:15:56.533847Z",
     "iopub.status.busy": "2022-02-22T11:15:56.533202Z",
     "iopub.status.idle": "2022-02-22T11:15:56.538936Z",
     "shell.execute_reply": "2022-02-22T11:15:56.539517Z"
    },
    "papermill": {
     "duration": 0.04481,
     "end_time": "2022-02-22T11:15:56.539707",
     "exception": false,
     "start_time": "2022-02-22T11:15:56.494897",
     "status": "completed"
    },
    "tags": []
   },
   "outputs": [
    {
     "data": {
      "application/javascript": [
       "parent.postMessage({\"jupyterEvent\": \"custom.exercise_interaction\", \"data\": {\"interactionType\": 2, \"questionType\": 4, \"questionId\": \"3.1_ArithmeticParensEasy\", \"learnToolsVersion\": \"0.3.4\", \"valueTowardsCompletion\": 0.0, \"failureMessage\": \"\", \"exceptionClass\": \"\", \"trace\": \"\", \"outcomeType\": 4}}, \"*\")"
      ],
      "text/plain": [
       "<IPython.core.display.Javascript object>"
      ]
     },
     "metadata": {},
     "output_type": "display_data"
    },
    {
     "data": {
      "text/markdown": [
       "<span style=\"color:#3366cc\">Hint:</span> Following its default \"BEDMAS\"-like rules for order of operations, Python will first divide 3 by 2, then subtract the result from 5. You need to add parentheses to force it to perform the subtraction first."
      ],
      "text/plain": [
       "Hint: Following its default \"BEDMAS\"-like rules for order of operations, Python will first divide 3 by 2, then subtract the result from 5. You need to add parentheses to force it to perform the subtraction first."
      ]
     },
     "metadata": {},
     "output_type": "display_data"
    }
   ],
   "source": [
    "q3.a.hint()\n"
   ]
  },
  {
   "cell_type": "code",
   "execution_count": 13,
   "id": "a40a75ed",
   "metadata": {
    "execution": {
     "iopub.execute_input": "2022-02-22T11:15:56.616915Z",
     "iopub.status.busy": "2022-02-22T11:15:56.616224Z",
     "iopub.status.idle": "2022-02-22T11:15:56.622298Z",
     "shell.execute_reply": "2022-02-22T11:15:56.622888Z"
    },
    "papermill": {
     "duration": 0.046284,
     "end_time": "2022-02-22T11:15:56.623054",
     "exception": false,
     "start_time": "2022-02-22T11:15:56.576770",
     "status": "completed"
    },
    "tags": []
   },
   "outputs": [
    {
     "data": {
      "application/javascript": [
       "parent.postMessage({\"jupyterEvent\": \"custom.exercise_interaction\", \"data\": {\"interactionType\": 3, \"questionType\": 4, \"questionId\": \"3.1_ArithmeticParensEasy\", \"learnToolsVersion\": \"0.3.4\", \"valueTowardsCompletion\": 0.0, \"failureMessage\": \"\", \"exceptionClass\": \"\", \"trace\": \"\", \"outcomeType\": 4}}, \"*\")"
      ],
      "text/plain": [
       "<IPython.core.display.Javascript object>"
      ]
     },
     "metadata": {},
     "output_type": "display_data"
    },
    {
     "data": {
      "text/markdown": [
       "<span style=\"color:#33cc99\">Solution:</span> \n",
       "```python\n",
       "(5 - 3) // 2\n",
       "```"
      ],
      "text/plain": [
       "Solution: \n",
       "```python\n",
       "(5 - 3) // 2\n",
       "```"
      ]
     },
     "metadata": {},
     "output_type": "display_data"
    }
   ],
   "source": [
    "# Check your answer (Run this code cell to receive credit!)\n",
    "q3.a.solution()"
   ]
  },
  {
   "cell_type": "markdown",
   "id": "1f6c999a",
   "metadata": {
    "papermill": {
     "duration": 0.039266,
     "end_time": "2022-02-22T11:15:56.700795",
     "exception": false,
     "start_time": "2022-02-22T11:15:56.661529",
     "status": "completed"
    },
    "tags": []
   },
   "source": [
    "# 3b.  <span title=\"A bit spicy\" style=\"color: darkgreen \">🌶️</span>\n",
    "\n",
    "<small>Questions, like this one, marked a spicy pepper are a bit harder.</small>\n",
    "\n",
    "Add parentheses to the following expression so that it evaluates to 0."
   ]
  },
  {
   "cell_type": "markdown",
   "id": "b548a93d",
   "metadata": {
    "papermill": {
     "duration": 0.038474,
     "end_time": "2022-02-22T11:15:56.777877",
     "exception": false,
     "start_time": "2022-02-22T11:15:56.739403",
     "status": "completed"
    },
    "tags": []
   },
   "source": []
  },
  {
   "cell_type": "code",
   "execution_count": 14,
   "id": "6e4436a3",
   "metadata": {
    "execution": {
     "iopub.execute_input": "2022-02-22T11:15:56.858132Z",
     "iopub.status.busy": "2022-02-22T11:15:56.857498Z",
     "iopub.status.idle": "2022-02-22T11:15:56.862441Z",
     "shell.execute_reply": "2022-02-22T11:15:56.863028Z",
     "shell.execute_reply.started": "2022-02-17T08:58:07.724162Z"
    },
    "papermill": {
     "duration": 0.046905,
     "end_time": "2022-02-22T11:15:56.863196",
     "exception": false,
     "start_time": "2022-02-22T11:15:56.816291",
     "status": "completed"
    },
    "tags": []
   },
   "outputs": [
    {
     "data": {
      "text/plain": [
       "0"
      ]
     },
     "execution_count": 14,
     "metadata": {},
     "output_type": "execute_result"
    }
   ],
   "source": [
    "(8-3)*(2-(1+1))"
   ]
  },
  {
   "cell_type": "code",
   "execution_count": 15,
   "id": "8212733c",
   "metadata": {
    "execution": {
     "iopub.execute_input": "2022-02-22T11:15:56.946254Z",
     "iopub.status.busy": "2022-02-22T11:15:56.945516Z",
     "iopub.status.idle": "2022-02-22T11:15:56.951595Z",
     "shell.execute_reply": "2022-02-22T11:15:56.952258Z"
    },
    "papermill": {
     "duration": 0.049598,
     "end_time": "2022-02-22T11:15:56.952577",
     "exception": false,
     "start_time": "2022-02-22T11:15:56.902979",
     "status": "completed"
    },
    "tags": []
   },
   "outputs": [
    {
     "data": {
      "text/plain": [
       "231"
      ]
     },
     "execution_count": 15,
     "metadata": {},
     "output_type": "execute_result"
    }
   ],
   "source": [
    "77*3"
   ]
  },
  {
   "cell_type": "code",
   "execution_count": 16,
   "id": "190c9ac6",
   "metadata": {
    "execution": {
     "iopub.execute_input": "2022-02-22T11:15:57.037611Z",
     "iopub.status.busy": "2022-02-22T11:15:57.036930Z",
     "iopub.status.idle": "2022-02-22T11:15:57.044372Z",
     "shell.execute_reply": "2022-02-22T11:15:57.044931Z",
     "shell.execute_reply.started": "2022-02-17T08:56:56.601826Z"
    },
    "papermill": {
     "duration": 0.051596,
     "end_time": "2022-02-22T11:15:57.045105",
     "exception": false,
     "start_time": "2022-02-22T11:15:56.993509",
     "status": "completed"
    },
    "tags": []
   },
   "outputs": [
    {
     "data": {
      "application/javascript": [
       "parent.postMessage({\"jupyterEvent\": \"custom.exercise_interaction\", \"data\": {\"interactionType\": 2, \"questionType\": 4, \"questionId\": \"3.2_ArithmeticParensHard\", \"learnToolsVersion\": \"0.3.4\", \"valueTowardsCompletion\": 0.0, \"failureMessage\": \"\", \"exceptionClass\": \"\", \"trace\": \"\", \"outcomeType\": 4}}, \"*\")"
      ],
      "text/plain": [
       "<IPython.core.display.Javascript object>"
      ]
     },
     "metadata": {},
     "output_type": "display_data"
    },
    {
     "data": {
      "text/markdown": [
       "<span style=\"color:#3366cc\">Hint:</span> You may need to use several pairs of parentheses."
      ],
      "text/plain": [
       "Hint: You may need to use several pairs of parentheses."
      ]
     },
     "metadata": {},
     "output_type": "display_data"
    }
   ],
   "source": [
    "q3.b.hint()"
   ]
  },
  {
   "cell_type": "code",
   "execution_count": 17,
   "id": "db0bd691",
   "metadata": {
    "execution": {
     "iopub.execute_input": "2022-02-22T11:15:57.134463Z",
     "iopub.status.busy": "2022-02-22T11:15:57.131966Z",
     "iopub.status.idle": "2022-02-22T11:15:57.139821Z",
     "shell.execute_reply": "2022-02-22T11:15:57.140319Z",
     "shell.execute_reply.started": "2022-02-17T08:57:07.154867Z"
    },
    "papermill": {
     "duration": 0.053272,
     "end_time": "2022-02-22T11:15:57.140492",
     "exception": false,
     "start_time": "2022-02-22T11:15:57.087220",
     "status": "completed"
    },
    "tags": []
   },
   "outputs": [
    {
     "data": {
      "application/javascript": [
       "parent.postMessage({\"jupyterEvent\": \"custom.exercise_interaction\", \"data\": {\"interactionType\": 3, \"questionType\": 4, \"questionId\": \"3.2_ArithmeticParensHard\", \"learnToolsVersion\": \"0.3.4\", \"valueTowardsCompletion\": 0.0, \"failureMessage\": \"\", \"exceptionClass\": \"\", \"trace\": \"\", \"outcomeType\": 4}}, \"*\")"
      ],
      "text/plain": [
       "<IPython.core.display.Javascript object>"
      ]
     },
     "metadata": {},
     "output_type": "display_data"
    },
    {
     "data": {
      "text/markdown": [
       "<span style=\"color:#33cc99\">Solution:</span> `(8 - 3) * (2 - (1 + 1))` is one solution. There may be others."
      ],
      "text/plain": [
       "Solution: `(8 - 3) * (2 - (1 + 1))` is one solution. There may be others."
      ]
     },
     "metadata": {},
     "output_type": "display_data"
    }
   ],
   "source": [
    "# Check your answer (Run this code cell to receive credit!)\n",
    "q3.b.solution()"
   ]
  },
  {
   "cell_type": "markdown",
   "id": "9c8c4e44",
   "metadata": {
    "papermill": {
     "duration": 0.041964,
     "end_time": "2022-02-22T11:15:57.224884",
     "exception": false,
     "start_time": "2022-02-22T11:15:57.182920",
     "status": "completed"
    },
    "tags": []
   },
   "source": [
    "<hr/>\n",
    "\n",
    "# 4. \n",
    "Alice, Bob and Carol have agreed to pool their Halloween candy and split it evenly among themselves.\n",
    "For the sake of their friendship, any candies left over will be smashed. For example, if they collectively\n",
    "bring home 91 candies, they'll take 30 each and smash 1.\n",
    "\n",
    "Write an arithmetic expression below to calculate how many candies they must smash for a given haul."
   ]
  },
  {
   "cell_type": "code",
   "execution_count": 18,
   "id": "244f8ed4",
   "metadata": {
    "execution": {
     "iopub.execute_input": "2022-02-22T11:15:57.313441Z",
     "iopub.status.busy": "2022-02-22T11:15:57.312462Z",
     "iopub.status.idle": "2022-02-22T11:15:57.320918Z",
     "shell.execute_reply": "2022-02-22T11:15:57.321449Z",
     "shell.execute_reply.started": "2022-02-17T09:01:19.926248Z"
    },
    "papermill": {
     "duration": 0.054402,
     "end_time": "2022-02-22T11:15:57.321640",
     "exception": false,
     "start_time": "2022-02-22T11:15:57.267238",
     "status": "completed"
    },
    "tags": []
   },
   "outputs": [
    {
     "data": {
      "application/javascript": [
       "parent.postMessage({\"jupyterEvent\": \"custom.exercise_interaction\", \"data\": {\"outcomeType\": 1, \"valueTowardsCompletion\": 0.25, \"interactionType\": 1, \"questionType\": 1, \"questionId\": \"4_CandySplitting\", \"learnToolsVersion\": \"0.3.4\", \"failureMessage\": \"\", \"exceptionClass\": \"\", \"trace\": \"\"}}, \"*\")"
      ],
      "text/plain": [
       "<IPython.core.display.Javascript object>"
      ]
     },
     "metadata": {},
     "output_type": "display_data"
    },
    {
     "data": {
      "text/markdown": [
       "<span style=\"color:#33cc33\">Correct</span>"
      ],
      "text/plain": [
       "Correct"
      ]
     },
     "metadata": {},
     "output_type": "display_data"
    }
   ],
   "source": [
    "# Variables representing the number of candies collected by alice, bob, and carol\n",
    "alice_candies = 121\n",
    "bob_candies = 77\n",
    "carol_candies = 109\n",
    "\n",
    "# Your code goes here! Replace the right-hand side of this assignment with an expression\n",
    "# involving alice_candies, bob_candies, and carol_candies\n",
    "to_smash = (alice_candies + carol_candies + bob_candies) % 3\n",
    "\n",
    "q4.check()\n"
   ]
  },
  {
   "cell_type": "code",
   "execution_count": 19,
   "id": "f00c5b28",
   "metadata": {
    "execution": {
     "iopub.execute_input": "2022-02-22T11:15:57.412988Z",
     "iopub.status.busy": "2022-02-22T11:15:57.411986Z",
     "iopub.status.idle": "2022-02-22T11:15:57.423032Z",
     "shell.execute_reply": "2022-02-22T11:15:57.423596Z",
     "shell.execute_reply.started": "2022-02-17T08:58:59.506307Z"
    },
    "papermill": {
     "duration": 0.058185,
     "end_time": "2022-02-22T11:15:57.423761",
     "exception": false,
     "start_time": "2022-02-22T11:15:57.365576",
     "status": "completed"
    },
    "tags": []
   },
   "outputs": [
    {
     "data": {
      "application/javascript": [
       "parent.postMessage({\"jupyterEvent\": \"custom.exercise_interaction\", \"data\": {\"interactionType\": 2, \"questionType\": 1, \"questionId\": \"4_CandySplitting\", \"learnToolsVersion\": \"0.3.4\", \"valueTowardsCompletion\": 0.0, \"failureMessage\": \"\", \"exceptionClass\": \"\", \"trace\": \"\", \"outcomeType\": 4}}, \"*\")"
      ],
      "text/plain": [
       "<IPython.core.display.Javascript object>"
      ]
     },
     "metadata": {},
     "output_type": "display_data"
    },
    {
     "data": {
      "text/markdown": [
       "<span style=\"color:#3366cc\">Hint 1:</span> You'll probably want to use the modulo operator, `%`.\n",
       "(For another hint, call `.hint(2)`)"
      ],
      "text/plain": [
       "Hint 1: You'll probably want to use the modulo operator, `%`.\n",
       "(For another hint, call `.hint(2)`)"
      ]
     },
     "metadata": {},
     "output_type": "display_data"
    },
    {
     "data": {
      "application/javascript": [
       "parent.postMessage({\"jupyterEvent\": \"custom.exercise_interaction\", \"data\": {\"interactionType\": 3, \"questionType\": 1, \"questionId\": \"4_CandySplitting\", \"learnToolsVersion\": \"0.3.4\", \"valueTowardsCompletion\": 0.0, \"failureMessage\": \"\", \"exceptionClass\": \"\", \"trace\": \"\", \"outcomeType\": 4}}, \"*\")"
      ],
      "text/plain": [
       "<IPython.core.display.Javascript object>"
      ]
     },
     "metadata": {},
     "output_type": "display_data"
    },
    {
     "data": {
      "text/markdown": [
       "<span style=\"color:#33cc99\">Solution:</span> \n",
       "```python\n",
       "(alice_candies + bob_candies + carol_candies) % 3\n",
       "```"
      ],
      "text/plain": [
       "Solution: \n",
       "```python\n",
       "(alice_candies + bob_candies + carol_candies) % 3\n",
       "```"
      ]
     },
     "metadata": {},
     "output_type": "display_data"
    }
   ],
   "source": [
    "q4.hint()\n",
    "q4.solution()"
   ]
  },
  {
   "cell_type": "markdown",
   "id": "6a141f48",
   "metadata": {
    "papermill": {
     "duration": 0.045161,
     "end_time": "2022-02-22T11:15:57.514070",
     "exception": false,
     "start_time": "2022-02-22T11:15:57.468909",
     "status": "completed"
    },
    "tags": []
   },
   "source": [
    "# Keep Going\n",
    "\n",
    "Next up, you'll **[learn to write new functions and understand functions others write](https://www.kaggle.com/colinmorris/functions-and-getting-help)**. This will make you at least 10 times more productive as a Python programmer. "
   ]
  },
  {
   "cell_type": "markdown",
   "id": "d24a0195",
   "metadata": {
    "papermill": {
     "duration": 0.045538,
     "end_time": "2022-02-22T11:15:57.606084",
     "exception": false,
     "start_time": "2022-02-22T11:15:57.560546",
     "status": "completed"
    },
    "tags": []
   },
   "source": [
    "---\n",
    "\n",
    "\n",
    "\n",
    "\n",
    "*Have questions or comments? Visit the [course discussion forum](https://www.kaggle.com/learn/python/discussion) to chat with other learners.*"
   ]
  }
 ],
 "metadata": {
  "kernelspec": {
   "display_name": "Python 3",
   "language": "python",
   "name": "python3"
  },
  "language_info": {
   "codemirror_mode": {
    "name": "ipython",
    "version": 3
   },
   "file_extension": ".py",
   "mimetype": "text/x-python",
   "name": "python",
   "nbconvert_exporter": "python",
   "pygments_lexer": "ipython3",
   "version": "3.7.12"
  },
  "papermill": {
   "default_parameters": {},
   "duration": 13.378268,
   "end_time": "2022-02-22T11:15:58.262258",
   "environment_variables": {},
   "exception": null,
   "input_path": "__notebook__.ipynb",
   "output_path": "__notebook__.ipynb",
   "parameters": {},
   "start_time": "2022-02-22T11:15:44.883990",
   "version": "2.3.3"
  }
 },
 "nbformat": 4,
 "nbformat_minor": 5
}

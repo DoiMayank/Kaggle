{
 "cells": [
  {
   "cell_type": "code",
   "execution_count": 1,
   "id": "a03813e1",
   "metadata": {
    "execution": {
     "iopub.execute_input": "2022-02-22T11:15:38.207975Z",
     "iopub.status.busy": "2022-02-22T11:15:38.205550Z",
     "iopub.status.idle": "2022-02-22T11:15:38.215744Z",
     "shell.execute_reply": "2022-02-22T11:15:38.215000Z",
     "shell.execute_reply.started": "2022-02-17T16:09:34.739211Z"
    },
    "papermill": {
     "duration": 0.035446,
     "end_time": "2022-02-22T11:15:38.215931",
     "exception": false,
     "start_time": "2022-02-22T11:15:38.180485",
     "status": "completed"
    },
    "tags": []
   },
   "outputs": [
    {
     "data": {
      "text/plain": [
       "15"
      ]
     },
     "execution_count": 1,
     "metadata": {},
     "output_type": "execute_result"
    }
   ],
   "source": [
    "def MULTI_BY_FIVE(x):\n",
    "    return 5 * x\n",
    "    \n",
    "MULTI_BY_FIVE(3)\n",
    "    "
   ]
  },
  {
   "cell_type": "markdown",
   "id": "418af7f9",
   "metadata": {
    "papermill": {
     "duration": 0.022214,
     "end_time": "2022-02-22T11:15:38.261785",
     "exception": false,
     "start_time": "2022-02-22T11:15:38.239571",
     "status": "completed"
    },
    "tags": []
   },
   "source": [
    "**This notebook is an exercise in the [Python](https://www.kaggle.com/learn/python) course.  You can reference the tutorial at [this link](https://www.kaggle.com/colinmorris/functions-and-getting-help).**\n",
    "\n",
    "---\n"
   ]
  },
  {
   "cell_type": "markdown",
   "id": "4f34e28f",
   "metadata": {
    "papermill": {
     "duration": 0.022514,
     "end_time": "2022-02-22T11:15:38.307139",
     "exception": false,
     "start_time": "2022-02-22T11:15:38.284625",
     "status": "completed"
    },
    "tags": []
   },
   "source": [
    "Functions are powerful. Try writing some yourself.\n",
    "\n",
    "As before, don't forget to run the setup code below before jumping into question 1."
   ]
  },
  {
   "cell_type": "code",
   "execution_count": 2,
   "id": "12524f6c",
   "metadata": {
    "_kg_hide-input": true,
    "_kg_hide-output": true,
    "execution": {
     "iopub.execute_input": "2022-02-22T11:15:38.358495Z",
     "iopub.status.busy": "2022-02-22T11:15:38.357753Z",
     "iopub.status.idle": "2022-02-22T11:15:38.399880Z",
     "shell.execute_reply": "2022-02-22T11:15:38.399138Z",
     "shell.execute_reply.started": "2022-02-17T20:04:32.10472Z"
    },
    "papermill": {
     "duration": 0.070472,
     "end_time": "2022-02-22T11:15:38.400036",
     "exception": false,
     "start_time": "2022-02-22T11:15:38.329564",
     "status": "completed"
    },
    "tags": []
   },
   "outputs": [
    {
     "name": "stdout",
     "output_type": "stream",
     "text": [
      "Setup complete.\n"
     ]
    }
   ],
   "source": [
    "# SETUP. You don't need to worry for now about what this code does or how it works.\n",
    "from learntools.core import binder; binder.bind(globals())\n",
    "from learntools.python.ex2 import *\n",
    "print('Setup complete.')"
   ]
  },
  {
   "cell_type": "markdown",
   "id": "1fef9190",
   "metadata": {
    "papermill": {
     "duration": 0.022969,
     "end_time": "2022-02-22T11:15:38.447781",
     "exception": false,
     "start_time": "2022-02-22T11:15:38.424812",
     "status": "completed"
    },
    "tags": []
   },
   "source": [
    "# 1.\n",
    "\n",
    "Complete the body of the following function according to its docstring.\n",
    "\n",
    "HINT: Python has a built-in function `round`."
   ]
  },
  {
   "cell_type": "code",
   "execution_count": 3,
   "id": "7f9bf2c0",
   "metadata": {
    "execution": {
     "iopub.execute_input": "2022-02-22T11:15:38.500099Z",
     "iopub.status.busy": "2022-02-22T11:15:38.499319Z",
     "iopub.status.idle": "2022-02-22T11:15:38.504674Z",
     "shell.execute_reply": "2022-02-22T11:15:38.504051Z",
     "shell.execute_reply.started": "2022-02-17T17:09:48.162311Z"
    },
    "papermill": {
     "duration": 0.033616,
     "end_time": "2022-02-22T11:15:38.504815",
     "exception": false,
     "start_time": "2022-02-22T11:15:38.471199",
     "status": "completed"
    },
    "tags": []
   },
   "outputs": [
    {
     "data": {
      "application/javascript": [
       "parent.postMessage({\"jupyterEvent\": \"custom.exercise_interaction\", \"data\": {\"outcomeType\": 1, \"valueTowardsCompletion\": 0.16666666666666666, \"interactionType\": 1, \"questionType\": 2, \"questionId\": \"1_RoundFunctionProblem\", \"learnToolsVersion\": \"0.3.4\", \"failureMessage\": \"\", \"exceptionClass\": \"\", \"trace\": \"\"}}, \"*\")"
      ],
      "text/plain": [
       "<IPython.core.display.Javascript object>"
      ]
     },
     "metadata": {},
     "output_type": "display_data"
    },
    {
     "data": {
      "text/markdown": [
       "<span style=\"color:#33cc33\">Correct</span>"
      ],
      "text/plain": [
       "Correct"
      ]
     },
     "metadata": {},
     "output_type": "display_data"
    }
   ],
   "source": [
    "def round_to_two_places(num):\n",
    "    return round(num,2)\n",
    "    \n",
    "round_to_two_places(3.14159)\n",
    "   \n",
    "    # Replace this body with your own code.\n",
    "    # (\"pass\" is a keyword that does literally nothing. We used it as a placeholder\n",
    "    # because after we begin a code block, Python requires at least one line of code)\n",
    "   \n",
    "\n",
    "# Check your answer\n",
    "q1.check()"
   ]
  },
  {
   "cell_type": "code",
   "execution_count": 4,
   "id": "4876a8fe",
   "metadata": {
    "execution": {
     "iopub.execute_input": "2022-02-22T11:15:38.560385Z",
     "iopub.status.busy": "2022-02-22T11:15:38.559550Z",
     "iopub.status.idle": "2022-02-22T11:15:38.563025Z",
     "shell.execute_reply": "2022-02-22T11:15:38.562361Z",
     "shell.execute_reply.started": "2022-02-17T17:09:57.080264Z"
    },
    "papermill": {
     "duration": 0.03284,
     "end_time": "2022-02-22T11:15:38.563171",
     "exception": false,
     "start_time": "2022-02-22T11:15:38.530331",
     "status": "completed"
    },
    "tags": []
   },
   "outputs": [],
   "source": [
    "# Uncomment the following for a hint\n",
    "#q1.hint()\n",
    "# Or uncomment the following to peek at the solution\n",
    "#q1.solution()\n"
   ]
  },
  {
   "cell_type": "markdown",
   "id": "83448e41",
   "metadata": {
    "papermill": {
     "duration": 0.024317,
     "end_time": "2022-02-22T11:15:38.612795",
     "exception": false,
     "start_time": "2022-02-22T11:15:38.588478",
     "status": "completed"
    },
    "tags": []
   },
   "source": [
    "# 2.\n",
    "The help for `round` says that `ndigits` (the second argument) may be negative.\n",
    "What do you think will happen when it is? Try some examples in the following cell."
   ]
  },
  {
   "cell_type": "code",
   "execution_count": 5,
   "id": "9a711591",
   "metadata": {
    "execution": {
     "iopub.execute_input": "2022-02-22T11:15:38.668703Z",
     "iopub.status.busy": "2022-02-22T11:15:38.667992Z",
     "iopub.status.idle": "2022-02-22T11:15:38.672376Z",
     "shell.execute_reply": "2022-02-22T11:15:38.671856Z",
     "shell.execute_reply.started": "2022-02-17T17:15:47.78637Z"
    },
    "papermill": {
     "duration": 0.03497,
     "end_time": "2022-02-22T11:15:38.672503",
     "exception": false,
     "start_time": "2022-02-22T11:15:38.637533",
     "status": "completed"
    },
    "tags": []
   },
   "outputs": [
    {
     "data": {
      "text/plain": [
       "403500"
      ]
     },
     "execution_count": 5,
     "metadata": {},
     "output_type": "execute_result"
    }
   ],
   "source": [
    "area_of_a = 302464\n",
    "round(area_of_a,-2)\n",
    "area_of_b = 403540\n",
    "round(area_of_b,-2)"
   ]
  },
  {
   "cell_type": "markdown",
   "id": "e8370d18",
   "metadata": {
    "papermill": {
     "duration": 0.024408,
     "end_time": "2022-02-22T11:15:38.721774",
     "exception": false,
     "start_time": "2022-02-22T11:15:38.697366",
     "status": "completed"
    },
    "tags": []
   },
   "source": [
    "Can you think of a case where this would be useful?  Once you're ready, run the code cell below to see the answer and to receive credit for completing the problem."
   ]
  },
  {
   "cell_type": "code",
   "execution_count": 6,
   "id": "707a6309",
   "metadata": {
    "execution": {
     "iopub.execute_input": "2022-02-22T11:15:38.779471Z",
     "iopub.status.busy": "2022-02-22T11:15:38.778624Z",
     "iopub.status.idle": "2022-02-22T11:15:38.784916Z",
     "shell.execute_reply": "2022-02-22T11:15:38.784345Z",
     "shell.execute_reply.started": "2022-02-17T17:12:01.662417Z"
    },
    "papermill": {
     "duration": 0.037883,
     "end_time": "2022-02-22T11:15:38.785045",
     "exception": false,
     "start_time": "2022-02-22T11:15:38.747162",
     "status": "completed"
    },
    "tags": []
   },
   "outputs": [
    {
     "data": {
      "application/javascript": [
       "parent.postMessage({\"jupyterEvent\": \"custom.exercise_interaction\", \"data\": {\"interactionType\": 3, \"questionType\": 4, \"questionId\": \"2_RoundNdigitsProblem\", \"learnToolsVersion\": \"0.3.4\", \"valueTowardsCompletion\": 0.0, \"failureMessage\": \"\", \"exceptionClass\": \"\", \"trace\": \"\", \"outcomeType\": 4}}, \"*\")"
      ],
      "text/plain": [
       "<IPython.core.display.Javascript object>"
      ]
     },
     "metadata": {},
     "output_type": "display_data"
    },
    {
     "data": {
      "text/markdown": [
       "<span style=\"color:#33cc99\">Solution:</span> As you've seen, `ndigits=-1` rounds to the nearest 10, `ndigits=-2` rounds to the nearest 100 and so on. Where might this be useful? Suppose we're dealing with large numbers:\n",
       "\n",
       "> The area of Finland is 338,424 km²  \n",
       "> The area of Greenland is 2,166,086 km²\n",
       "\n",
       "We probably don't care whether it's really 338,424, or 338,425, or 338,177. All those digits of accuracy are just distracting. We can chop them off by calling `round()` with `ndigits=-3`:\n",
       "\n",
       "> The area of Finland is 338,000 km²  \n",
       "> The area of Greenland is 2,166,000 km²\n",
       "\n",
       "(We'll talk about how we would get the commas later when we talk about string formatting :))\n"
      ],
      "text/plain": [
       "Solution: As you've seen, `ndigits=-1` rounds to the nearest 10, `ndigits=-2` rounds to the nearest 100 and so on. Where might this be useful? Suppose we're dealing with large numbers:\n",
       "\n",
       "> The area of Finland is 338,424 km²  \n",
       "> The area of Greenland is 2,166,086 km²\n",
       "\n",
       "We probably don't care whether it's really 338,424, or 338,425, or 338,177. All those digits of accuracy are just distracting. We can chop them off by calling `round()` with `ndigits=-3`:\n",
       "\n",
       "> The area of Finland is 338,000 km²  \n",
       "> The area of Greenland is 2,166,000 km²\n",
       "\n",
       "(We'll talk about how we would get the commas later when we talk about string formatting :))"
      ]
     },
     "metadata": {},
     "output_type": "display_data"
    }
   ],
   "source": [
    "# Check your answer (Run this code cell to receive credit!)\n",
    "q2.solution()"
   ]
  },
  {
   "cell_type": "markdown",
   "id": "8f24ac92",
   "metadata": {
    "papermill": {
     "duration": 0.026149,
     "end_time": "2022-02-22T11:15:38.837551",
     "exception": false,
     "start_time": "2022-02-22T11:15:38.811402",
     "status": "completed"
    },
    "tags": []
   },
   "source": [
    "# 3.\n",
    "\n",
    "In the previous exercise, the candy-sharing friends Alice, Bob and Carol tried to split candies evenly. For the sake of their friendship, any candies left over would be smashed. For example, if they collectively bring home 91 candies, they'll take 30 each and smash 1.\n",
    "\n",
    "Below is a simple function that will calculate the number of candies to smash for *any* number of total candies.\n",
    "\n",
    "Modify it so that it optionally takes a second argument representing the number of friends the candies are being split between. If no second argument is provided, it should assume 3 friends, as before.\n",
    "\n",
    "Update the docstring to reflect this new behaviour."
   ]
  },
  {
   "cell_type": "code",
   "execution_count": 7,
   "id": "17b29991",
   "metadata": {
    "execution": {
     "iopub.execute_input": "2022-02-22T11:15:38.896221Z",
     "iopub.status.busy": "2022-02-22T11:15:38.895515Z",
     "iopub.status.idle": "2022-02-22T11:15:38.898135Z",
     "shell.execute_reply": "2022-02-22T11:15:38.898642Z",
     "shell.execute_reply.started": "2022-02-17T20:07:15.837641Z"
    },
    "papermill": {
     "duration": 0.034442,
     "end_time": "2022-02-22T11:15:38.898806",
     "exception": false,
     "start_time": "2022-02-22T11:15:38.864364",
     "status": "completed"
    },
    "tags": []
   },
   "outputs": [
    {
     "data": {
      "text/plain": [
       "1"
      ]
     },
     "execution_count": 7,
     "metadata": {},
     "output_type": "execute_result"
    }
   ],
   "source": [
    "def to_smash(total_candies, n_friends=3):\n",
    "    return total_candies % n_friends\n",
    "\n",
    "to_smash(181,3)\n",
    "# Check your answer\n",
    "#q3.check()"
   ]
  },
  {
   "cell_type": "code",
   "execution_count": 8,
   "id": "f4577178",
   "metadata": {
    "execution": {
     "iopub.execute_input": "2022-02-22T11:15:38.956755Z",
     "iopub.status.busy": "2022-02-22T11:15:38.956065Z",
     "iopub.status.idle": "2022-02-22T11:15:38.959320Z",
     "shell.execute_reply": "2022-02-22T11:15:38.959927Z",
     "shell.execute_reply.started": "2022-02-17T18:43:12.335427Z"
    },
    "papermill": {
     "duration": 0.033895,
     "end_time": "2022-02-22T11:15:38.960093",
     "exception": false,
     "start_time": "2022-02-22T11:15:38.926198",
     "status": "completed"
    },
    "tags": []
   },
   "outputs": [],
   "source": [
    "#q3.hint()"
   ]
  },
  {
   "cell_type": "code",
   "execution_count": 9,
   "id": "c465be3d",
   "metadata": {
    "execution": {
     "iopub.execute_input": "2022-02-22T11:15:39.017018Z",
     "iopub.status.busy": "2022-02-22T11:15:39.016418Z",
     "iopub.status.idle": "2022-02-22T11:15:39.019143Z",
     "shell.execute_reply": "2022-02-22T11:15:39.019730Z",
     "shell.execute_reply.started": "2022-02-17T20:07:49.895805Z"
    },
    "papermill": {
     "duration": 0.032646,
     "end_time": "2022-02-22T11:15:39.019892",
     "exception": false,
     "start_time": "2022-02-22T11:15:38.987246",
     "status": "completed"
    },
    "tags": []
   },
   "outputs": [],
   "source": [
    "#q3.solution()"
   ]
  },
  {
   "cell_type": "markdown",
   "id": "921682b5",
   "metadata": {
    "papermill": {
     "duration": 0.026507,
     "end_time": "2022-02-22T11:15:39.073502",
     "exception": false,
     "start_time": "2022-02-22T11:15:39.046995",
     "status": "completed"
    },
    "tags": []
   },
   "source": [
    "# 4. (Optional)\n",
    "\n",
    "It may not be fun, but reading and understanding error messages will be an important part of your Python career.\n",
    "\n",
    "Each code cell below contains some commented buggy code. For each cell...\n",
    "\n",
    "1. Read the code and predict what you think will happen when it's run.\n",
    "2. Then uncomment the code and run it to see what happens. (**Tip**: In the kernel editor, you can highlight several lines and press `ctrl`+`/` to toggle commenting.)\n",
    "3. Fix the code (so that it accomplishes its intended purpose without throwing an exception)\n",
    "\n",
    "<!-- TODO: should this be autochecked? Delta is probably pretty small. -->"
   ]
  },
  {
   "cell_type": "code",
   "execution_count": 10,
   "id": "ebe369d4",
   "metadata": {
    "execution": {
     "iopub.execute_input": "2022-02-22T11:15:39.130990Z",
     "iopub.status.busy": "2022-02-22T11:15:39.130317Z",
     "iopub.status.idle": "2022-02-22T11:15:39.135502Z",
     "shell.execute_reply": "2022-02-22T11:15:39.136063Z",
     "shell.execute_reply.started": "2022-02-17T20:40:48.069929Z"
    },
    "papermill": {
     "duration": 0.035709,
     "end_time": "2022-02-22T11:15:39.136248",
     "exception": false,
     "start_time": "2022-02-22T11:15:39.100539",
     "status": "completed"
    },
    "tags": []
   },
   "outputs": [
    {
     "data": {
      "text/plain": [
       "10.0"
      ]
     },
     "execution_count": 10,
     "metadata": {},
     "output_type": "execute_result"
    }
   ],
   "source": [
    "def round_to_two_places(num):\n",
    "    return round(num,3)\n",
    "\n",
    "round_to_two_places(9.9999)\n",
    "\n"
   ]
  },
  {
   "cell_type": "code",
   "execution_count": 11,
   "id": "f936ab32",
   "metadata": {
    "execution": {
     "iopub.execute_input": "2022-02-22T11:15:39.194905Z",
     "iopub.status.busy": "2022-02-22T11:15:39.194241Z",
     "iopub.status.idle": "2022-02-22T11:15:39.198358Z",
     "shell.execute_reply": "2022-02-22T11:15:39.199091Z",
     "shell.execute_reply.started": "2022-02-17T20:45:59.592745Z"
    },
    "papermill": {
     "duration": 0.035239,
     "end_time": "2022-02-22T11:15:39.199275",
     "exception": false,
     "start_time": "2022-02-22T11:15:39.164036",
     "status": "completed"
    },
    "tags": []
   },
   "outputs": [],
   "source": [
    "x = -10\n",
    "y = 5\n",
    "# # Which of the two variables above has the smallest absolute value?\n",
    "def smallest_abs(x,y):\n",
    "    return min(abs(x, y))"
   ]
  },
  {
   "cell_type": "code",
   "execution_count": 12,
   "id": "ef1ada10",
   "metadata": {
    "execution": {
     "iopub.execute_input": "2022-02-22T11:15:39.258281Z",
     "iopub.status.busy": "2022-02-22T11:15:39.257631Z",
     "iopub.status.idle": "2022-02-22T11:15:39.260220Z",
     "shell.execute_reply": "2022-02-22T11:15:39.260786Z"
    },
    "papermill": {
     "duration": 0.033685,
     "end_time": "2022-02-22T11:15:39.260969",
     "exception": false,
     "start_time": "2022-02-22T11:15:39.227284",
     "status": "completed"
    },
    "tags": []
   },
   "outputs": [],
   "source": [
    "# def f(x):\n",
    "#     y = abs(x)\n",
    "# return y\n",
    "\n",
    "# print(f(5))"
   ]
  },
  {
   "cell_type": "markdown",
   "id": "0453c801",
   "metadata": {
    "papermill": {
     "duration": 0.027537,
     "end_time": "2022-02-22T11:15:39.316424",
     "exception": false,
     "start_time": "2022-02-22T11:15:39.288887",
     "status": "completed"
    },
    "tags": []
   },
   "source": [
    "# Keep Going\n",
    "\n",
    "Nice job with the code. Next up, you'll learn about *conditionals*, which you'll need to **[write interesting programs](https://www.kaggle.com/colinmorris/booleans-and-conditionals)**. "
   ]
  },
  {
   "cell_type": "markdown",
   "id": "9baa1fcb",
   "metadata": {
    "papermill": {
     "duration": 0.027306,
     "end_time": "2022-02-22T11:15:39.371655",
     "exception": false,
     "start_time": "2022-02-22T11:15:39.344349",
     "status": "completed"
    },
    "tags": []
   },
   "source": [
    "---\n",
    "\n",
    "\n",
    "\n",
    "\n",
    "*Have questions or comments? Visit the [course discussion forum](https://www.kaggle.com/learn/python/discussion) to chat with other learners.*"
   ]
  }
 ],
 "metadata": {
  "kernelspec": {
   "display_name": "Python 3",
   "language": "python",
   "name": "python3"
  },
  "language_info": {
   "codemirror_mode": {
    "name": "ipython",
    "version": 3
   },
   "file_extension": ".py",
   "mimetype": "text/x-python",
   "name": "python",
   "nbconvert_exporter": "python",
   "pygments_lexer": "ipython3",
   "version": "3.7.12"
  },
  "papermill": {
   "default_parameters": {},
   "duration": 13.720396,
   "end_time": "2022-02-22T11:15:40.210564",
   "environment_variables": {},
   "exception": null,
   "input_path": "__notebook__.ipynb",
   "output_path": "__notebook__.ipynb",
   "parameters": {},
   "start_time": "2022-02-22T11:15:26.490168",
   "version": "2.3.3"
  }
 },
 "nbformat": 4,
 "nbformat_minor": 5
}

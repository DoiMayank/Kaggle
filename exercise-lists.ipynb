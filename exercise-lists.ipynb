{
 "cells": [
  {
   "cell_type": "markdown",
   "id": "f7403e14",
   "metadata": {
    "papermill": {
     "duration": 0.019683,
     "end_time": "2022-02-26T16:48:38.775260",
     "exception": false,
     "start_time": "2022-02-26T16:48:38.755577",
     "status": "completed"
    },
    "tags": []
   },
   "source": [
    "**This notebook is an exercise in the [Python](https://www.kaggle.com/learn/python) course.  You can reference the tutorial at [this link](https://www.kaggle.com/colinmorris/lists).**\n",
    "\n",
    "---\n"
   ]
  },
  {
   "cell_type": "markdown",
   "id": "b9493a6d",
   "metadata": {
    "papermill": {
     "duration": 0.01772,
     "end_time": "2022-02-26T16:48:38.812753",
     "exception": false,
     "start_time": "2022-02-26T16:48:38.795033",
     "status": "completed"
    },
    "tags": []
   },
   "source": [
    "Things get more interesting with lists. You'll apply your new knowledge to solve the questions below. Remember to run the following cell first."
   ]
  },
  {
   "cell_type": "code",
   "execution_count": 1,
   "id": "4d29a7c0",
   "metadata": {
    "execution": {
     "iopub.execute_input": "2022-02-26T16:48:38.855508Z",
     "iopub.status.busy": "2022-02-26T16:48:38.854346Z",
     "iopub.status.idle": "2022-02-26T16:48:38.909307Z",
     "shell.execute_reply": "2022-02-26T16:48:38.909948Z",
     "shell.execute_reply.started": "2022-02-26T15:36:09.253386Z"
    },
    "papermill": {
     "duration": 0.079511,
     "end_time": "2022-02-26T16:48:38.910256",
     "exception": false,
     "start_time": "2022-02-26T16:48:38.830745",
     "status": "completed"
    },
    "tags": []
   },
   "outputs": [
    {
     "name": "stdout",
     "output_type": "stream",
     "text": [
      "Setup complete.\n"
     ]
    }
   ],
   "source": [
    "from learntools.core import binder; binder.bind(globals())\n",
    "from learntools.python.ex4 import *\n",
    "print('Setup complete.')"
   ]
  },
  {
   "cell_type": "markdown",
   "id": "cae580f7",
   "metadata": {
    "papermill": {
     "duration": 0.017957,
     "end_time": "2022-02-26T16:48:38.947280",
     "exception": false,
     "start_time": "2022-02-26T16:48:38.929323",
     "status": "completed"
    },
    "tags": []
   },
   "source": [
    "# 1.\n",
    "\n",
    "Complete the function below according to its docstring."
   ]
  },
  {
   "cell_type": "code",
   "execution_count": 2,
   "id": "af2bd51e",
   "metadata": {
    "execution": {
     "iopub.execute_input": "2022-02-26T16:48:38.988736Z",
     "iopub.status.busy": "2022-02-26T16:48:38.988079Z",
     "iopub.status.idle": "2022-02-26T16:48:38.998329Z",
     "shell.execute_reply": "2022-02-26T16:48:38.998826Z",
     "shell.execute_reply.started": "2022-02-26T15:54:26.747478Z"
    },
    "papermill": {
     "duration": 0.032558,
     "end_time": "2022-02-26T16:48:38.999001",
     "exception": false,
     "start_time": "2022-02-26T16:48:38.966443",
     "status": "completed"
    },
    "tags": []
   },
   "outputs": [
    {
     "data": {
      "application/javascript": [
       "parent.postMessage({\"jupyterEvent\": \"custom.exercise_interaction\", \"data\": {\"outcomeType\": 1, \"valueTowardsCompletion\": 0.2, \"interactionType\": 1, \"questionType\": 2, \"questionId\": \"1_SelectSecondItem\", \"learnToolsVersion\": \"0.3.4\", \"failureMessage\": \"\", \"exceptionClass\": \"\", \"trace\": \"\"}}, \"*\")"
      ],
      "text/plain": [
       "<IPython.core.display.Javascript object>"
      ]
     },
     "metadata": {},
     "output_type": "display_data"
    },
    {
     "data": {
      "text/markdown": [
       "<span style=\"color:#33cc33\">Correct</span>"
      ],
      "text/plain": [
       "Correct"
      ]
     },
     "metadata": {},
     "output_type": "display_data"
    }
   ],
   "source": [
    "def select_second(L):\n",
    "    \"\"\"Return the second element of the given list. If the list has no second\n",
    "    element, return None.\n",
    "    \"\"\"\n",
    "    if len(L) > 1:\n",
    "        return L[1] \n",
    "    else :\n",
    "        return None \n",
    "    \n",
    "\n",
    "# Check your answer\n",
    "q1.check()"
   ]
  },
  {
   "cell_type": "code",
   "execution_count": 3,
   "id": "31de0a56",
   "metadata": {
    "execution": {
     "iopub.execute_input": "2022-02-26T16:48:39.043753Z",
     "iopub.status.busy": "2022-02-26T16:48:39.042769Z",
     "iopub.status.idle": "2022-02-26T16:48:39.051309Z",
     "shell.execute_reply": "2022-02-26T16:48:39.051771Z",
     "shell.execute_reply.started": "2022-02-26T15:50:22.670194Z"
    },
    "papermill": {
     "duration": 0.032839,
     "end_time": "2022-02-26T16:48:39.051966",
     "exception": false,
     "start_time": "2022-02-26T16:48:39.019127",
     "status": "completed"
    },
    "tags": []
   },
   "outputs": [
    {
     "data": {
      "application/javascript": [
       "parent.postMessage({\"jupyterEvent\": \"custom.exercise_interaction\", \"data\": {\"interactionType\": 2, \"questionType\": 2, \"questionId\": \"1_SelectSecondItem\", \"learnToolsVersion\": \"0.3.4\", \"valueTowardsCompletion\": 0.0, \"failureMessage\": \"\", \"exceptionClass\": \"\", \"trace\": \"\", \"outcomeType\": 4}}, \"*\")"
      ],
      "text/plain": [
       "<IPython.core.display.Javascript object>"
      ]
     },
     "metadata": {},
     "output_type": "display_data"
    },
    {
     "data": {
      "text/markdown": [
       "<span style=\"color:#3366cc\">Hint:</span> Python starts counting at 0. So the second item isn't indexed with a 2"
      ],
      "text/plain": [
       "Hint: Python starts counting at 0. So the second item isn't indexed with a 2"
      ]
     },
     "metadata": {},
     "output_type": "display_data"
    }
   ],
   "source": [
    "q1.hint()\n",
    "#q1.solution()"
   ]
  },
  {
   "cell_type": "markdown",
   "id": "6b816978",
   "metadata": {
    "papermill": {
     "duration": 0.022573,
     "end_time": "2022-02-26T16:48:39.096938",
     "exception": false,
     "start_time": "2022-02-26T16:48:39.074365",
     "status": "completed"
    },
    "tags": []
   },
   "source": [
    "# 2.\n",
    "\n",
    "You are analyzing sports teams.  Members of each team are stored in a list. The Coach is the first name in the list, the captain is the second name in the list, and other players are listed after that. \n",
    "These lists are stored in another list, which starts with the best team and proceeds through the list to the worst team last.  Complete the function below to select the **captain** of the worst team."
   ]
  },
  {
   "cell_type": "code",
   "execution_count": 4,
   "id": "469fa773",
   "metadata": {
    "execution": {
     "iopub.execute_input": "2022-02-26T16:48:39.147857Z",
     "iopub.status.busy": "2022-02-26T16:48:39.147197Z",
     "iopub.status.idle": "2022-02-26T16:48:39.151233Z",
     "shell.execute_reply": "2022-02-26T16:48:39.151823Z",
     "shell.execute_reply.started": "2022-02-26T16:02:08.799978Z"
    },
    "papermill": {
     "duration": 0.032749,
     "end_time": "2022-02-26T16:48:39.152010",
     "exception": false,
     "start_time": "2022-02-26T16:48:39.119261",
     "status": "completed"
    },
    "tags": []
   },
   "outputs": [
    {
     "data": {
      "application/javascript": [
       "parent.postMessage({\"jupyterEvent\": \"custom.exercise_interaction\", \"data\": {\"outcomeType\": 1, \"valueTowardsCompletion\": 0.2, \"interactionType\": 1, \"questionType\": 2, \"questionId\": \"2_LosingTeamCaptain\", \"learnToolsVersion\": \"0.3.4\", \"failureMessage\": \"\", \"exceptionClass\": \"\", \"trace\": \"\"}}, \"*\")"
      ],
      "text/plain": [
       "<IPython.core.display.Javascript object>"
      ]
     },
     "metadata": {},
     "output_type": "display_data"
    },
    {
     "data": {
      "text/markdown": [
       "<span style=\"color:#33cc33\">Correct</span>"
      ],
      "text/plain": [
       "Correct"
      ]
     },
     "metadata": {},
     "output_type": "display_data"
    }
   ],
   "source": [
    "def losing_team_captain(teams):\n",
    "    \"\"\"Given a list of teams, where each team is a list of names, return the 2nd player (captain)\n",
    "    from the last listed team\n",
    "    \"\"\"\n",
    "    return teams[-1][1] \n",
    "\n",
    "# Check your answer\n",
    "q2.check()"
   ]
  },
  {
   "cell_type": "code",
   "execution_count": 5,
   "id": "fbf2d173",
   "metadata": {
    "collapsed": true,
    "execution": {
     "iopub.execute_input": "2022-02-26T16:48:39.200979Z",
     "iopub.status.busy": "2022-02-26T16:48:39.200334Z",
     "iopub.status.idle": "2022-02-26T16:48:39.204378Z",
     "shell.execute_reply": "2022-02-26T16:48:39.204940Z"
    },
    "jupyter": {
     "outputs_hidden": true
    },
    "papermill": {
     "duration": 0.029905,
     "end_time": "2022-02-26T16:48:39.205128",
     "exception": false,
     "start_time": "2022-02-26T16:48:39.175223",
     "status": "completed"
    },
    "tags": []
   },
   "outputs": [],
   "source": [
    "#q2.hint()\n",
    "#q2.solution()"
   ]
  },
  {
   "cell_type": "markdown",
   "id": "08c5d32f",
   "metadata": {
    "papermill": {
     "duration": 0.021845,
     "end_time": "2022-02-26T16:48:39.249013",
     "exception": false,
     "start_time": "2022-02-26T16:48:39.227168",
     "status": "completed"
    },
    "tags": []
   },
   "source": [
    "# 3.\n",
    "\n",
    "The next iteration of Mario Kart will feature an extra-infuriating new item, the *Purple Shell*. When used, it warps the last place racer into first place and the first place racer into last place. Complete the function below to implement the Purple Shell's effect."
   ]
  },
  {
   "cell_type": "code",
   "execution_count": 6,
   "id": "78ce685e",
   "metadata": {
    "execution": {
     "iopub.execute_input": "2022-02-26T16:48:39.302239Z",
     "iopub.status.busy": "2022-02-26T16:48:39.301576Z",
     "iopub.status.idle": "2022-02-26T16:48:39.309354Z",
     "shell.execute_reply": "2022-02-26T16:48:39.309888Z",
     "shell.execute_reply.started": "2022-02-26T16:17:28.115519Z"
    },
    "papermill": {
     "duration": 0.036222,
     "end_time": "2022-02-26T16:48:39.310058",
     "exception": false,
     "start_time": "2022-02-26T16:48:39.273836",
     "status": "completed"
    },
    "tags": []
   },
   "outputs": [
    {
     "data": {
      "application/javascript": [
       "parent.postMessage({\"jupyterEvent\": \"custom.exercise_interaction\", \"data\": {\"outcomeType\": 1, \"valueTowardsCompletion\": 0.2, \"interactionType\": 1, \"questionType\": 2, \"questionId\": \"3_PurpleShell\", \"learnToolsVersion\": \"0.3.4\", \"failureMessage\": \"\", \"exceptionClass\": \"\", \"trace\": \"\"}}, \"*\")"
      ],
      "text/plain": [
       "<IPython.core.display.Javascript object>"
      ]
     },
     "metadata": {},
     "output_type": "display_data"
    },
    {
     "data": {
      "text/markdown": [
       "<span style=\"color:#33cc33\">Correct</span>"
      ],
      "text/plain": [
       "Correct"
      ]
     },
     "metadata": {},
     "output_type": "display_data"
    }
   ],
   "source": [
    "def purple_shell(racers):\n",
    "    \"\"\"Given a list of racers, set the first place racer (at the front of the list) to last\n",
    "    place and vice versa.\n",
    "    \n",
    "    >>> r = [\"Mario\", \"Bowser\", \"Luigi\"]\n",
    "    >>> purple_shell(r)\n",
    "    >>> r\n",
    "    [\"Luigi\", \"Bowser\", \"Mario\"]\n",
    "    \"\"\"\n",
    "    a = racers[0]\n",
    "    racers[0]= racers[-1]\n",
    "    racers[-1] = a \n",
    "\n",
    "# Check your answer\n",
    "q3.check()"
   ]
  },
  {
   "cell_type": "code",
   "execution_count": 7,
   "id": "082977c0",
   "metadata": {
    "execution": {
     "iopub.execute_input": "2022-02-26T16:48:39.365103Z",
     "iopub.status.busy": "2022-02-26T16:48:39.364438Z",
     "iopub.status.idle": "2022-02-26T16:48:39.367629Z",
     "shell.execute_reply": "2022-02-26T16:48:39.368179Z",
     "shell.execute_reply.started": "2022-02-26T16:17:36.261648Z"
    },
    "papermill": {
     "duration": 0.031842,
     "end_time": "2022-02-26T16:48:39.368351",
     "exception": false,
     "start_time": "2022-02-26T16:48:39.336509",
     "status": "completed"
    },
    "tags": []
   },
   "outputs": [],
   "source": [
    "#q3.hint()\n",
    "#q3.solution()"
   ]
  },
  {
   "cell_type": "markdown",
   "id": "53caaca5",
   "metadata": {
    "papermill": {
     "duration": 0.023887,
     "end_time": "2022-02-26T16:48:39.417628",
     "exception": false,
     "start_time": "2022-02-26T16:48:39.393741",
     "status": "completed"
    },
    "tags": []
   },
   "source": [
    "# 4.\n",
    "\n",
    "What are the lengths of the following lists? Fill in the variable `lengths` with your predictions. (Try to make a prediction for each list *without* just calling `len()` on it.)"
   ]
  },
  {
   "cell_type": "code",
   "execution_count": 8,
   "id": "6a497fe3",
   "metadata": {
    "execution": {
     "iopub.execute_input": "2022-02-26T16:48:39.475549Z",
     "iopub.status.busy": "2022-02-26T16:48:39.474409Z",
     "iopub.status.idle": "2022-02-26T16:48:39.478807Z",
     "shell.execute_reply": "2022-02-26T16:48:39.479296Z",
     "shell.execute_reply.started": "2022-02-26T16:36:18.913812Z"
    },
    "papermill": {
     "duration": 0.035183,
     "end_time": "2022-02-26T16:48:39.479464",
     "exception": false,
     "start_time": "2022-02-26T16:48:39.444281",
     "status": "completed"
    },
    "tags": []
   },
   "outputs": [
    {
     "data": {
      "application/javascript": [
       "parent.postMessage({\"jupyterEvent\": \"custom.exercise_interaction\", \"data\": {\"outcomeType\": 1, \"valueTowardsCompletion\": 0.2, \"interactionType\": 1, \"questionType\": 1, \"questionId\": \"4_UnderstandLen\", \"learnToolsVersion\": \"0.3.4\", \"failureMessage\": \"\", \"exceptionClass\": \"\", \"trace\": \"\"}}, \"*\")"
      ],
      "text/plain": [
       "<IPython.core.display.Javascript object>"
      ]
     },
     "metadata": {},
     "output_type": "display_data"
    },
    {
     "data": {
      "text/markdown": [
       "<span style=\"color:#33cc33\">Correct:</span> \n",
       "\n",
       "\n",
       "- a: There are three items in this list. Nothing tricky yet.\n",
       "- b: The list `[2, 3]` counts as a single item. It has one item before it. So we have 2 items in the list\n",
       "- c: The empty list has 0 items\n",
       "- d: The expression is the same as the list `[2, 3]`, which has length 2."
      ],
      "text/plain": [
       "Correct: \n",
       "\n",
       "\n",
       "- a: There are three items in this list. Nothing tricky yet.\n",
       "- b: The list `[2, 3]` counts as a single item. It has one item before it. So we have 2 items in the list\n",
       "- c: The empty list has 0 items\n",
       "- d: The expression is the same as the list `[2, 3]`, which has length 2."
      ]
     },
     "metadata": {},
     "output_type": "display_data"
    }
   ],
   "source": [
    "a = [1, 2, 3]\n",
    "b = [1, [2, 3]]\n",
    "c = []\n",
    "d = [1, 2, 3][1:]\n",
    "\n",
    "# Put your predictions in the list below. Lengths should contain 4 numbers, the\n",
    "# first being the length of a, the second being the length of b and so on.\n",
    "lengths = [3,2,0,2]\n",
    "\n",
    "# Check your answer\n",
    "q4.check()"
   ]
  },
  {
   "cell_type": "code",
   "execution_count": 9,
   "id": "2f9f69f7",
   "metadata": {
    "execution": {
     "iopub.execute_input": "2022-02-26T16:48:39.536956Z",
     "iopub.status.busy": "2022-02-26T16:48:39.536317Z",
     "iopub.status.idle": "2022-02-26T16:48:39.538901Z",
     "shell.execute_reply": "2022-02-26T16:48:39.538392Z",
     "shell.execute_reply.started": "2022-02-26T16:35:32.931428Z"
    },
    "papermill": {
     "duration": 0.032669,
     "end_time": "2022-02-26T16:48:39.539047",
     "exception": false,
     "start_time": "2022-02-26T16:48:39.506378",
     "status": "completed"
    },
    "tags": []
   },
   "outputs": [],
   "source": [
    "# line below provides some explanation\n",
    "#q4.solution()"
   ]
  },
  {
   "cell_type": "markdown",
   "id": "43a828b7",
   "metadata": {
    "papermill": {
     "duration": 0.02648,
     "end_time": "2022-02-26T16:48:39.590952",
     "exception": false,
     "start_time": "2022-02-26T16:48:39.564472",
     "status": "completed"
    },
    "tags": []
   },
   "source": [
    "# 5. <span title=\"A bit spicy\" style=\"color: darkgreen \">🌶️</span>\n",
    "\n",
    "We're using lists to record people who attended our party and what order they arrived in. For example, the following list represents a party with 7 guests, in which Adela showed up first and Ford was the last to arrive:\n",
    "\n",
    "    party_attendees = ['Adela', 'Fleda', 'Owen', 'May', 'Mona', 'Gilbert', 'Ford']\n",
    "\n",
    "A guest is considered 'fashionably late' if they arrived after at least half of the party's guests. However, they must not be the very last guest (that's taking it too far). In the above example, Mona and Gilbert are the only guests who were fashionably late.\n",
    "\n",
    "Complete the function below which takes a list of party attendees as well as a person, and tells us whether that person is fashionably late."
   ]
  },
  {
   "cell_type": "markdown",
   "id": "f3a48277",
   "metadata": {
    "papermill": {
     "duration": 0.025007,
     "end_time": "2022-02-26T16:48:39.643812",
     "exception": false,
     "start_time": "2022-02-26T16:48:39.618805",
     "status": "completed"
    },
    "tags": []
   },
   "source": []
  },
  {
   "cell_type": "code",
   "execution_count": 10,
   "id": "2b9c468f",
   "metadata": {
    "execution": {
     "iopub.execute_input": "2022-02-26T16:48:39.704289Z",
     "iopub.status.busy": "2022-02-26T16:48:39.703557Z",
     "iopub.status.idle": "2022-02-26T16:48:39.709230Z",
     "shell.execute_reply": "2022-02-26T16:48:39.708532Z",
     "shell.execute_reply.started": "2022-02-26T16:47:37.748987Z"
    },
    "papermill": {
     "duration": 0.039194,
     "end_time": "2022-02-26T16:48:39.709380",
     "exception": false,
     "start_time": "2022-02-26T16:48:39.670186",
     "status": "completed"
    },
    "tags": []
   },
   "outputs": [
    {
     "data": {
      "application/javascript": [
       "parent.postMessage({\"jupyterEvent\": \"custom.exercise_interaction\", \"data\": {\"outcomeType\": 1, \"valueTowardsCompletion\": 0.2, \"interactionType\": 1, \"questionType\": 2, \"questionId\": \"5_FashionablyLate\", \"learnToolsVersion\": \"0.3.4\", \"failureMessage\": \"\", \"exceptionClass\": \"\", \"trace\": \"\"}}, \"*\")"
      ],
      "text/plain": [
       "<IPython.core.display.Javascript object>"
      ]
     },
     "metadata": {},
     "output_type": "display_data"
    },
    {
     "data": {
      "text/markdown": [
       "<span style=\"color:#33cc33\">Correct</span>"
      ],
      "text/plain": [
       "Correct"
      ]
     },
     "metadata": {},
     "output_type": "display_data"
    }
   ],
   "source": [
    "def fashionably_late(arrivals, name):\n",
    "    \"\"\"Given an ordered list of arrivals to the party and a name, return whether the guest with that\n",
    "    name was fashionably late.\n",
    "    \"\"\"\n",
    "    order = arrivals.index(name)\n",
    "    return order >= len(arrivals)/2 and order != len (arrivals) -1 \n",
    "\n",
    "# Check your answer\n",
    "q5.check()"
   ]
  },
  {
   "cell_type": "code",
   "execution_count": 11,
   "id": "44903a84",
   "metadata": {
    "execution": {
     "iopub.execute_input": "2022-02-26T16:48:39.768648Z",
     "iopub.status.busy": "2022-02-26T16:48:39.767978Z",
     "iopub.status.idle": "2022-02-26T16:48:39.772845Z",
     "shell.execute_reply": "2022-02-26T16:48:39.773674Z",
     "shell.execute_reply.started": "2022-02-26T16:44:10.938122Z"
    },
    "papermill": {
     "duration": 0.037194,
     "end_time": "2022-02-26T16:48:39.773854",
     "exception": false,
     "start_time": "2022-02-26T16:48:39.736660",
     "status": "completed"
    },
    "tags": []
   },
   "outputs": [
    {
     "data": {
      "application/javascript": [
       "parent.postMessage({\"jupyterEvent\": \"custom.exercise_interaction\", \"data\": {\"interactionType\": 3, \"questionType\": 2, \"questionId\": \"5_FashionablyLate\", \"learnToolsVersion\": \"0.3.4\", \"valueTowardsCompletion\": 0.0, \"failureMessage\": \"\", \"exceptionClass\": \"\", \"trace\": \"\", \"outcomeType\": 4}}, \"*\")"
      ],
      "text/plain": [
       "<IPython.core.display.Javascript object>"
      ]
     },
     "metadata": {},
     "output_type": "display_data"
    },
    {
     "data": {
      "text/markdown": [
       "<span style=\"color:#33cc99\">Solution:</span> \n",
       "```python\n",
       "def fashionably_late(arrivals, name):\n",
       "    order = arrivals.index(name)\n",
       "    return order >= len(arrivals) / 2 and order != len(arrivals) - 1\n",
       "```"
      ],
      "text/plain": [
       "Solution: \n",
       "```python\n",
       "def fashionably_late(arrivals, name):\n",
       "    order = arrivals.index(name)\n",
       "    return order >= len(arrivals) / 2 and order != len(arrivals) - 1\n",
       "```"
      ]
     },
     "metadata": {},
     "output_type": "display_data"
    }
   ],
   "source": [
    "#q5.hint()\n",
    "q5.solution()"
   ]
  },
  {
   "cell_type": "markdown",
   "id": "ffc797bc",
   "metadata": {
    "papermill": {
     "duration": 0.027075,
     "end_time": "2022-02-26T16:48:39.829191",
     "exception": false,
     "start_time": "2022-02-26T16:48:39.802116",
     "status": "completed"
    },
    "tags": []
   },
   "source": [
    "# Keep Going\n",
    "\n",
    "That's it for lists and tuples! Now you have the baseline knowledge to **[learn about loops](https://www.kaggle.com/colinmorris/loops-and-list-comprehensions)**, which is where lists and tuples get really interesting. "
   ]
  },
  {
   "cell_type": "markdown",
   "id": "c9e3306d",
   "metadata": {
    "papermill": {
     "duration": 0.027563,
     "end_time": "2022-02-26T16:48:39.884938",
     "exception": false,
     "start_time": "2022-02-26T16:48:39.857375",
     "status": "completed"
    },
    "tags": []
   },
   "source": [
    "---\n",
    "\n",
    "\n",
    "\n",
    "\n",
    "*Have questions or comments? Visit the [course discussion forum](https://www.kaggle.com/learn/python/discussion) to chat with other learners.*"
   ]
  }
 ],
 "metadata": {
  "kernelspec": {
   "display_name": "Python 3",
   "language": "python",
   "name": "python3"
  },
  "language_info": {
   "codemirror_mode": {
    "name": "ipython",
    "version": 3
   },
   "file_extension": ".py",
   "mimetype": "text/x-python",
   "name": "python",
   "nbconvert_exporter": "python",
   "pygments_lexer": "ipython3",
   "version": "3.7.12"
  },
  "papermill": {
   "default_parameters": {},
   "duration": 13.29205,
   "end_time": "2022-02-26T16:48:40.625849",
   "environment_variables": {},
   "exception": null,
   "input_path": "__notebook__.ipynb",
   "output_path": "__notebook__.ipynb",
   "parameters": {},
   "start_time": "2022-02-26T16:48:27.333799",
   "version": "2.3.3"
  }
 },
 "nbformat": 4,
 "nbformat_minor": 5
}

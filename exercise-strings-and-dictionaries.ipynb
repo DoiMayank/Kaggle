{
 "cells": [
  {
   "cell_type": "markdown",
   "id": "6e861ee9",
   "metadata": {
    "papermill": {
     "duration": 0.024956,
     "end_time": "2022-03-03T03:56:16.593275",
     "exception": false,
     "start_time": "2022-03-03T03:56:16.568319",
     "status": "completed"
    },
    "tags": []
   },
   "source": [
    "**This notebook is an exercise in the [Python](https://www.kaggle.com/learn/python) course.  You can reference the tutorial at [this link](https://www.kaggle.com/colinmorris/strings-and-dictionaries).**\n",
    "\n",
    "---\n"
   ]
  },
  {
   "cell_type": "markdown",
   "id": "2163f1c0",
   "metadata": {
    "papermill": {
     "duration": 0.022404,
     "end_time": "2022-03-03T03:56:16.639656",
     "exception": false,
     "start_time": "2022-03-03T03:56:16.617252",
     "status": "completed"
    },
    "tags": []
   },
   "source": [
    "You are almost done with the course. Nice job!\n",
    "\n",
    "We have a couple more interesting problems for you before you go. \n",
    "\n",
    "As always, run the setup code below before working on the questions."
   ]
  },
  {
   "cell_type": "code",
   "execution_count": 1,
   "id": "9d1e56b8",
   "metadata": {
    "execution": {
     "iopub.execute_input": "2022-03-03T03:56:16.695324Z",
     "iopub.status.busy": "2022-03-03T03:56:16.693307Z",
     "iopub.status.idle": "2022-03-03T03:56:16.755314Z",
     "shell.execute_reply": "2022-03-03T03:56:16.755827Z",
     "shell.execute_reply.started": "2022-03-03T03:49:30.974735Z"
    },
    "papermill": {
     "duration": 0.092795,
     "end_time": "2022-03-03T03:56:16.756162",
     "exception": false,
     "start_time": "2022-03-03T03:56:16.663367",
     "status": "completed"
    },
    "tags": []
   },
   "outputs": [
    {
     "name": "stdout",
     "output_type": "stream",
     "text": [
      "Setup complete.\n"
     ]
    }
   ],
   "source": [
    "from learntools.core import binder; binder.bind(globals())\n",
    "from learntools.python.ex6 import *\n",
    "print('Setup complete.')"
   ]
  },
  {
   "cell_type": "markdown",
   "id": "220fa175",
   "metadata": {
    "papermill": {
     "duration": 0.022712,
     "end_time": "2022-03-03T03:56:16.804224",
     "exception": false,
     "start_time": "2022-03-03T03:56:16.781512",
     "status": "completed"
    },
    "tags": []
   },
   "source": [
    "Let's start with a string lightning round to warm up. What are the lengths of the strings below?\n",
    "\n",
    "For each of the five strings below, predict what `len()` would return when passed that string. Use the variable `length` to record your answer, then run the cell to check whether you were right.  \n",
    "\n",
    "# 0a."
   ]
  },
  {
   "cell_type": "code",
   "execution_count": 2,
   "id": "76321089",
   "metadata": {
    "execution": {
     "iopub.execute_input": "2022-03-03T03:56:16.855413Z",
     "iopub.status.busy": "2022-03-03T03:56:16.854478Z",
     "iopub.status.idle": "2022-03-03T03:56:16.864614Z",
     "shell.execute_reply": "2022-03-03T03:56:16.865193Z",
     "shell.execute_reply.started": "2022-03-01T04:39:34.54018Z"
    },
    "papermill": {
     "duration": 0.037775,
     "end_time": "2022-03-03T03:56:16.865396",
     "exception": false,
     "start_time": "2022-03-03T03:56:16.827621",
     "status": "completed"
    },
    "tags": []
   },
   "outputs": [
    {
     "data": {
      "application/javascript": [
       "parent.postMessage({\"jupyterEvent\": \"custom.exercise_interaction\", \"data\": {\"outcomeType\": 1, \"valueTowardsCompletion\": 0.3333333333333333, \"interactionType\": 1, \"questionType\": 1, \"questionId\": \"0.1_ZA\", \"learnToolsVersion\": \"0.3.4\", \"failureMessage\": \"\", \"exceptionClass\": \"\", \"trace\": \"\"}}, \"*\")"
      ],
      "text/plain": [
       "<IPython.core.display.Javascript object>"
      ]
     },
     "metadata": {},
     "output_type": "display_data"
    },
    {
     "data": {
      "text/markdown": [
       "<span style=\"color:#33cc33\">Correct:</span> \n",
       "\n",
       "The empty string has length zero. Note that the empty string is also the only string that Python considers as False when converting to boolean."
      ],
      "text/plain": [
       "Correct: \n",
       "\n",
       "The empty string has length zero. Note that the empty string is also the only string that Python considers as False when converting to boolean."
      ]
     },
     "metadata": {},
     "output_type": "display_data"
    }
   ],
   "source": [
    "a = \"\"\n",
    "length = 0\n",
    "\n",
    "q0.a.check()"
   ]
  },
  {
   "cell_type": "markdown",
   "id": "05dbddef",
   "metadata": {
    "papermill": {
     "duration": 0.02351,
     "end_time": "2022-03-03T03:56:16.913118",
     "exception": false,
     "start_time": "2022-03-03T03:56:16.889608",
     "status": "completed"
    },
    "tags": []
   },
   "source": [
    "# 0b."
   ]
  },
  {
   "cell_type": "code",
   "execution_count": 3,
   "id": "9f3a322b",
   "metadata": {
    "execution": {
     "iopub.execute_input": "2022-03-03T03:56:16.967718Z",
     "iopub.status.busy": "2022-03-03T03:56:16.966545Z",
     "iopub.status.idle": "2022-03-03T03:56:16.975239Z",
     "shell.execute_reply": "2022-03-03T03:56:16.975802Z",
     "shell.execute_reply.started": "2022-03-01T04:39:45.716457Z"
    },
    "papermill": {
     "duration": 0.037616,
     "end_time": "2022-03-03T03:56:16.976014",
     "exception": false,
     "start_time": "2022-03-03T03:56:16.938398",
     "status": "completed"
    },
    "tags": []
   },
   "outputs": [
    {
     "data": {
      "application/javascript": [
       "parent.postMessage({\"jupyterEvent\": \"custom.exercise_interaction\", \"data\": {\"outcomeType\": 1, \"valueTowardsCompletion\": 0.3333333333333333, \"interactionType\": 1, \"questionType\": 1, \"questionId\": \"0.2_ZB\", \"learnToolsVersion\": \"0.3.4\", \"failureMessage\": \"\", \"exceptionClass\": \"\", \"trace\": \"\"}}, \"*\")"
      ],
      "text/plain": [
       "<IPython.core.display.Javascript object>"
      ]
     },
     "metadata": {},
     "output_type": "display_data"
    },
    {
     "data": {
      "text/markdown": [
       "<span style=\"color:#33cc33\">Correct:</span> \n",
       "\n",
       "Keep in mind Python includes spaces (and punctuation) when counting string length."
      ],
      "text/plain": [
       "Correct: \n",
       "\n",
       "Keep in mind Python includes spaces (and punctuation) when counting string length."
      ]
     },
     "metadata": {},
     "output_type": "display_data"
    }
   ],
   "source": [
    "b = \"it's ok\"\n",
    "length = 7\n",
    "q0.b.check()"
   ]
  },
  {
   "cell_type": "markdown",
   "id": "809e80f1",
   "metadata": {
    "papermill": {
     "duration": 0.025221,
     "end_time": "2022-03-03T03:56:17.027875",
     "exception": false,
     "start_time": "2022-03-03T03:56:17.002654",
     "status": "completed"
    },
    "tags": []
   },
   "source": [
    "# 0c."
   ]
  },
  {
   "cell_type": "code",
   "execution_count": 4,
   "id": "3ed647e3",
   "metadata": {
    "execution": {
     "iopub.execute_input": "2022-03-03T03:56:17.087073Z",
     "iopub.status.busy": "2022-03-03T03:56:17.085998Z",
     "iopub.status.idle": "2022-03-03T03:56:17.095029Z",
     "shell.execute_reply": "2022-03-03T03:56:17.095660Z",
     "shell.execute_reply.started": "2022-03-01T04:40:02.510515Z"
    },
    "papermill": {
     "duration": 0.041161,
     "end_time": "2022-03-03T03:56:17.095859",
     "exception": false,
     "start_time": "2022-03-03T03:56:17.054698",
     "status": "completed"
    },
    "tags": []
   },
   "outputs": [
    {
     "data": {
      "application/javascript": [
       "parent.postMessage({\"jupyterEvent\": \"custom.exercise_interaction\", \"data\": {\"outcomeType\": 1, \"valueTowardsCompletion\": 0.3333333333333333, \"interactionType\": 1, \"questionType\": 1, \"questionId\": \"0.3_ZC\", \"learnToolsVersion\": \"0.3.4\", \"failureMessage\": \"\", \"exceptionClass\": \"\", \"trace\": \"\"}}, \"*\")"
      ],
      "text/plain": [
       "<IPython.core.display.Javascript object>"
      ]
     },
     "metadata": {},
     "output_type": "display_data"
    },
    {
     "data": {
      "text/markdown": [
       "<span style=\"color:#33cc33\">Correct:</span> \n",
       "\n",
       "Even though we use different syntax to create it, the string `c` is identical to `b`. In particular, note that the backslash is not part of the string, so it doesn't contribute to its length."
      ],
      "text/plain": [
       "Correct: \n",
       "\n",
       "Even though we use different syntax to create it, the string `c` is identical to `b`. In particular, note that the backslash is not part of the string, so it doesn't contribute to its length."
      ]
     },
     "metadata": {},
     "output_type": "display_data"
    }
   ],
   "source": [
    "c = 'it\\'s ok'\n",
    "length = 7\n",
    "q0.c.check()"
   ]
  },
  {
   "cell_type": "markdown",
   "id": "9523859d",
   "metadata": {
    "papermill": {
     "duration": 0.027789,
     "end_time": "2022-03-03T03:56:17.151930",
     "exception": false,
     "start_time": "2022-03-03T03:56:17.124141",
     "status": "completed"
    },
    "tags": []
   },
   "source": [
    "# 0d."
   ]
  },
  {
   "cell_type": "code",
   "execution_count": 5,
   "id": "db98150d",
   "metadata": {
    "execution": {
     "iopub.execute_input": "2022-03-03T03:56:17.209718Z",
     "iopub.status.busy": "2022-03-03T03:56:17.208666Z",
     "iopub.status.idle": "2022-03-03T03:56:17.218139Z",
     "shell.execute_reply": "2022-03-03T03:56:17.217419Z",
     "shell.execute_reply.started": "2022-03-01T04:40:20.67496Z"
    },
    "papermill": {
     "duration": 0.039592,
     "end_time": "2022-03-03T03:56:17.218307",
     "exception": false,
     "start_time": "2022-03-03T03:56:17.178715",
     "status": "completed"
    },
    "tags": []
   },
   "outputs": [
    {
     "data": {
      "application/javascript": [
       "parent.postMessage({\"jupyterEvent\": \"custom.exercise_interaction\", \"data\": {\"outcomeType\": 1, \"valueTowardsCompletion\": 0.3333333333333333, \"interactionType\": 1, \"questionType\": 1, \"questionId\": \"0.4_ZD\", \"learnToolsVersion\": \"0.3.4\", \"failureMessage\": \"\", \"exceptionClass\": \"\", \"trace\": \"\"}}, \"*\")"
      ],
      "text/plain": [
       "<IPython.core.display.Javascript object>"
      ]
     },
     "metadata": {},
     "output_type": "display_data"
    },
    {
     "data": {
      "text/markdown": [
       "<span style=\"color:#33cc33\">Correct:</span> \n",
       "\n",
       "The fact that this string was created using triple-quote syntax doesn't make any difference in terms of its content or length. This string is exactly the same as `'hey'`."
      ],
      "text/plain": [
       "Correct: \n",
       "\n",
       "The fact that this string was created using triple-quote syntax doesn't make any difference in terms of its content or length. This string is exactly the same as `'hey'`."
      ]
     },
     "metadata": {},
     "output_type": "display_data"
    }
   ],
   "source": [
    "d = \"\"\"hey\"\"\"\n",
    "length =3\n",
    "q0.d.check()"
   ]
  },
  {
   "cell_type": "markdown",
   "id": "5c922918",
   "metadata": {
    "papermill": {
     "duration": 0.028906,
     "end_time": "2022-03-03T03:56:17.276071",
     "exception": false,
     "start_time": "2022-03-03T03:56:17.247165",
     "status": "completed"
    },
    "tags": []
   },
   "source": [
    "# 0e."
   ]
  },
  {
   "cell_type": "code",
   "execution_count": 6,
   "id": "07c717ac",
   "metadata": {
    "execution": {
     "iopub.execute_input": "2022-03-03T03:56:17.339996Z",
     "iopub.status.busy": "2022-03-03T03:56:17.338906Z",
     "iopub.status.idle": "2022-03-03T03:56:17.345210Z",
     "shell.execute_reply": "2022-03-03T03:56:17.345772Z",
     "shell.execute_reply.started": "2022-03-01T04:40:35.506263Z"
    },
    "papermill": {
     "duration": 0.042059,
     "end_time": "2022-03-03T03:56:17.345956",
     "exception": false,
     "start_time": "2022-03-03T03:56:17.303897",
     "status": "completed"
    },
    "tags": []
   },
   "outputs": [
    {
     "data": {
      "application/javascript": [
       "parent.postMessage({\"jupyterEvent\": \"custom.exercise_interaction\", \"data\": {\"outcomeType\": 1, \"valueTowardsCompletion\": 0.3333333333333333, \"interactionType\": 1, \"questionType\": 1, \"questionId\": \"0.5_ZE\", \"learnToolsVersion\": \"0.3.4\", \"failureMessage\": \"\", \"exceptionClass\": \"\", \"trace\": \"\"}}, \"*\")"
      ],
      "text/plain": [
       "<IPython.core.display.Javascript object>"
      ]
     },
     "metadata": {},
     "output_type": "display_data"
    },
    {
     "data": {
      "text/markdown": [
       "<span style=\"color:#33cc33\">Correct:</span> \n",
       "\n",
       "The newline character is just a single character! (Even though we represent it to Python using a combination of two characters.)"
      ],
      "text/plain": [
       "Correct: \n",
       "\n",
       "The newline character is just a single character! (Even though we represent it to Python using a combination of two characters.)"
      ]
     },
     "metadata": {},
     "output_type": "display_data"
    }
   ],
   "source": [
    "e = '\\n'\n",
    "length = 1\n",
    "q0.e.check()"
   ]
  },
  {
   "cell_type": "markdown",
   "id": "2d99a763",
   "metadata": {
    "papermill": {
     "duration": 0.031191,
     "end_time": "2022-03-03T03:56:17.407733",
     "exception": false,
     "start_time": "2022-03-03T03:56:17.376542",
     "status": "completed"
    },
    "tags": []
   },
   "source": [
    "# 1.\n",
    "\n",
    "There is a saying that \"Data scientists spend 80% of their time cleaning data, and 20% of their time complaining about cleaning data.\" Let's see if you can write a function to help clean US zip code data. Given a string, it should return whether or not that string represents a valid zip code. For our purposes, a valid zip code is any string consisting of exactly 5 digits.\n",
    "\n",
    "HINT: `str` has a method that will be useful here. Use `help(str)` to review a list of string methods."
   ]
  },
  {
   "cell_type": "code",
   "execution_count": 7,
   "id": "b72b1093",
   "metadata": {
    "execution": {
     "iopub.execute_input": "2022-03-03T03:56:17.474392Z",
     "iopub.status.busy": "2022-03-03T03:56:17.473317Z",
     "iopub.status.idle": "2022-03-03T03:56:17.483040Z",
     "shell.execute_reply": "2022-03-03T03:56:17.483638Z",
     "shell.execute_reply.started": "2022-03-01T04:45:52.957616Z"
    },
    "papermill": {
     "duration": 0.044747,
     "end_time": "2022-03-03T03:56:17.483822",
     "exception": false,
     "start_time": "2022-03-03T03:56:17.439075",
     "status": "completed"
    },
    "tags": []
   },
   "outputs": [
    {
     "data": {
      "application/javascript": [
       "parent.postMessage({\"jupyterEvent\": \"custom.exercise_interaction\", \"data\": {\"outcomeType\": 1, \"valueTowardsCompletion\": 0.3333333333333333, \"interactionType\": 1, \"questionType\": 2, \"questionId\": \"1_ZipValidator\", \"learnToolsVersion\": \"0.3.4\", \"failureMessage\": \"\", \"exceptionClass\": \"\", \"trace\": \"\"}}, \"*\")"
      ],
      "text/plain": [
       "<IPython.core.display.Javascript object>"
      ]
     },
     "metadata": {},
     "output_type": "display_data"
    },
    {
     "data": {
      "text/markdown": [
       "<span style=\"color:#33cc33\">Correct</span>"
      ],
      "text/plain": [
       "Correct"
      ]
     },
     "metadata": {},
     "output_type": "display_data"
    }
   ],
   "source": [
    "def is_valid_zip(zip_code):\n",
    "    \"\"\"Returns whether the input string is a valid (5 digit) zip code\n",
    "    \"\"\"\n",
    "    return len(zip_code) == 5 and zip_code.isdigit()\n",
    "\n",
    "# Check your answer\n",
    "q1.check()\n"
   ]
  },
  {
   "cell_type": "code",
   "execution_count": 8,
   "id": "c44a2f05",
   "metadata": {
    "execution": {
     "iopub.execute_input": "2022-03-03T03:56:17.551696Z",
     "iopub.status.busy": "2022-03-03T03:56:17.551044Z",
     "iopub.status.idle": "2022-03-03T03:56:17.553498Z",
     "shell.execute_reply": "2022-03-03T03:56:17.552806Z",
     "shell.execute_reply.started": "2022-03-01T04:46:14.426526Z"
    },
    "papermill": {
     "duration": 0.038348,
     "end_time": "2022-03-03T03:56:17.553650",
     "exception": false,
     "start_time": "2022-03-03T03:56:17.515302",
     "status": "completed"
    },
    "tags": []
   },
   "outputs": [],
   "source": [
    "#q1.hint()\n",
    "#q1.solution()"
   ]
  },
  {
   "cell_type": "markdown",
   "id": "eb20bcd2",
   "metadata": {
    "papermill": {
     "duration": 0.032044,
     "end_time": "2022-03-03T03:56:17.617611",
     "exception": false,
     "start_time": "2022-03-03T03:56:17.585567",
     "status": "completed"
    },
    "tags": []
   },
   "source": [
    "# 2.\n",
    "\n",
    "A researcher has gathered thousands of news articles. But she wants to focus her attention on articles including a specific word. Complete the function below to help her filter her list of articles.\n",
    "\n",
    "Your function should meet the following criteria:\n",
    "\n",
    "- Do not include documents where the keyword string shows up only as a part of a larger word. For example, if she were looking for the keyword “closed”, you would not include the string “enclosed.” \n",
    "- She does not want you to distinguish upper case from lower case letters. So the phrase “Closed the case.” would be included when the keyword is “closed”\n",
    "- Do not let periods or commas affect what is matched. “It is closed.” would be included when the keyword is “closed”. But you can assume there are no other types of punctuation."
   ]
  },
  {
   "cell_type": "code",
   "execution_count": 9,
   "id": "dc03185d",
   "metadata": {
    "execution": {
     "iopub.execute_input": "2022-03-03T03:56:17.684644Z",
     "iopub.status.busy": "2022-03-03T03:56:17.683917Z",
     "iopub.status.idle": "2022-03-03T03:56:17.694764Z",
     "shell.execute_reply": "2022-03-03T03:56:17.695618Z",
     "shell.execute_reply.started": "2022-03-03T03:54:16.720155Z"
    },
    "papermill": {
     "duration": 0.045745,
     "end_time": "2022-03-03T03:56:17.695890",
     "exception": false,
     "start_time": "2022-03-03T03:56:17.650145",
     "status": "completed"
    },
    "tags": []
   },
   "outputs": [
    {
     "data": {
      "application/javascript": [
       "parent.postMessage({\"jupyterEvent\": \"custom.exercise_interaction\", \"data\": {\"outcomeType\": 1, \"valueTowardsCompletion\": 0.3333333333333333, \"interactionType\": 1, \"questionType\": 2, \"questionId\": \"2_WordSearch\", \"learnToolsVersion\": \"0.3.4\", \"failureMessage\": \"\", \"exceptionClass\": \"\", \"trace\": \"\"}}, \"*\")"
      ],
      "text/plain": [
       "<IPython.core.display.Javascript object>"
      ]
     },
     "metadata": {},
     "output_type": "display_data"
    },
    {
     "data": {
      "text/markdown": [
       "<span style=\"color:#33cc33\">Correct</span>"
      ],
      "text/plain": [
       "Correct"
      ]
     },
     "metadata": {},
     "output_type": "display_data"
    }
   ],
   "source": [
    "def word_search(doc_list, keyword):\n",
    "    \"\"\"\n",
    "    Takes a list of documents (each document is a string) and a keyword. \n",
    "    Returns list of the index values into the original list for all documents \n",
    "    containing the keyword.\n",
    "\n",
    "    Example:\n",
    "    doc_list = [\"The Learn Python Challenge Casino.\", \"They bought a car\", \"Casinoville\"]\n",
    "    >>> word_search(doc_list, 'casino')\n",
    "    >>> [0]\n",
    "    \"\"\"\n",
    "    indices = [] \n",
    "    \n",
    "    for i, doc in enumerate(doc_list):\n",
    "        \n",
    "        tokens = doc.split()\n",
    "        \n",
    "        normalized = [token.rstrip('.,').lower() for token in tokens]\n",
    "        \n",
    "        if keyword.lower() in normalized:\n",
    "            indices.append(i)\n",
    "    return indices\n",
    "\n",
    "# Check your answer\n",
    "q2.check()"
   ]
  },
  {
   "cell_type": "code",
   "execution_count": 10,
   "id": "2a36690c",
   "metadata": {
    "execution": {
     "iopub.execute_input": "2022-03-03T03:56:17.767142Z",
     "iopub.status.busy": "2022-03-03T03:56:17.766447Z",
     "iopub.status.idle": "2022-03-03T03:56:17.778844Z",
     "shell.execute_reply": "2022-03-03T03:56:17.779412Z",
     "shell.execute_reply.started": "2022-03-03T03:50:05.054094Z"
    },
    "papermill": {
     "duration": 0.049039,
     "end_time": "2022-03-03T03:56:17.779601",
     "exception": false,
     "start_time": "2022-03-03T03:56:17.730562",
     "status": "completed"
    },
    "tags": []
   },
   "outputs": [
    {
     "data": {
      "application/javascript": [
       "parent.postMessage({\"jupyterEvent\": \"custom.exercise_interaction\", \"data\": {\"interactionType\": 2, \"questionType\": 2, \"questionId\": \"2_WordSearch\", \"learnToolsVersion\": \"0.3.4\", \"valueTowardsCompletion\": 0.0, \"failureMessage\": \"\", \"exceptionClass\": \"\", \"trace\": \"\", \"outcomeType\": 4}}, \"*\")"
      ],
      "text/plain": [
       "<IPython.core.display.Javascript object>"
      ]
     },
     "metadata": {},
     "output_type": "display_data"
    },
    {
     "data": {
      "text/markdown": [
       "<span style=\"color:#3366cc\">Hint:</span> Some methods that may be useful here: `str.split()`, `str.strip()`, `str.lower()`."
      ],
      "text/plain": [
       "Hint: Some methods that may be useful here: `str.split()`, `str.strip()`, `str.lower()`."
      ]
     },
     "metadata": {},
     "output_type": "display_data"
    },
    {
     "data": {
      "application/javascript": [
       "parent.postMessage({\"jupyterEvent\": \"custom.exercise_interaction\", \"data\": {\"interactionType\": 3, \"questionType\": 2, \"questionId\": \"2_WordSearch\", \"learnToolsVersion\": \"0.3.4\", \"valueTowardsCompletion\": 0.0, \"failureMessage\": \"\", \"exceptionClass\": \"\", \"trace\": \"\", \"outcomeType\": 4}}, \"*\")"
      ],
      "text/plain": [
       "<IPython.core.display.Javascript object>"
      ]
     },
     "metadata": {},
     "output_type": "display_data"
    },
    {
     "data": {
      "text/markdown": [
       "<span style=\"color:#33cc99\">Solution:</span> \n",
       "```python\n",
       "def word_search(doc_list, keyword):\n",
       "    # list to hold the indices of matching documents\n",
       "    indices = [] \n",
       "    # Iterate through the indices (i) and elements (doc) of documents\n",
       "    for i, doc in enumerate(doc_list):\n",
       "        # Split the string doc into a list of words (according to whitespace)\n",
       "        tokens = doc.split()\n",
       "        # Make a transformed list where we 'normalize' each word to facilitate matching.\n",
       "        # Periods and commas are removed from the end of each word, and it's set to all lowercase.\n",
       "        normalized = [token.rstrip('.,').lower() for token in tokens]\n",
       "        # Is there a match? If so, update the list of matching indices.\n",
       "        if keyword.lower() in normalized:\n",
       "            indices.append(i)\n",
       "    return indices\n",
       "```"
      ],
      "text/plain": [
       "Solution: \n",
       "```python\n",
       "def word_search(doc_list, keyword):\n",
       "    # list to hold the indices of matching documents\n",
       "    indices = [] \n",
       "    # Iterate through the indices (i) and elements (doc) of documents\n",
       "    for i, doc in enumerate(doc_list):\n",
       "        # Split the string doc into a list of words (according to whitespace)\n",
       "        tokens = doc.split()\n",
       "        # Make a transformed list where we 'normalize' each word to facilitate matching.\n",
       "        # Periods and commas are removed from the end of each word, and it's set to all lowercase.\n",
       "        normalized = [token.rstrip('.,').lower() for token in tokens]\n",
       "        # Is there a match? If so, update the list of matching indices.\n",
       "        if keyword.lower() in normalized:\n",
       "            indices.append(i)\n",
       "    return indices\n",
       "```"
      ]
     },
     "metadata": {},
     "output_type": "display_data"
    }
   ],
   "source": [
    "q2.hint()\n",
    "q2.solution()"
   ]
  },
  {
   "cell_type": "markdown",
   "id": "40dc1df5",
   "metadata": {
    "papermill": {
     "duration": 0.036412,
     "end_time": "2022-03-03T03:56:17.852003",
     "exception": false,
     "start_time": "2022-03-03T03:56:17.815591",
     "status": "completed"
    },
    "tags": []
   },
   "source": [
    "# 3.\n",
    "\n",
    "Now the researcher wants to supply multiple keywords to search for. Complete the function below to help her.\n",
    "\n",
    "(You're encouraged to use the `word_search` function you just wrote when implementing this function. Reusing code in this way makes your programs more robust and readable - and it saves typing!)"
   ]
  },
  {
   "cell_type": "code",
   "execution_count": 11,
   "id": "5e09e135",
   "metadata": {
    "execution": {
     "iopub.execute_input": "2022-03-03T03:56:17.934845Z",
     "iopub.status.busy": "2022-03-03T03:56:17.933792Z",
     "iopub.status.idle": "2022-03-03T03:56:17.939703Z",
     "shell.execute_reply": "2022-03-03T03:56:17.940283Z",
     "shell.execute_reply.started": "2022-03-03T03:55:27.887424Z"
    },
    "papermill": {
     "duration": 0.050906,
     "end_time": "2022-03-03T03:56:17.940487",
     "exception": false,
     "start_time": "2022-03-03T03:56:17.889581",
     "status": "completed"
    },
    "tags": []
   },
   "outputs": [
    {
     "data": {
      "application/javascript": [
       "parent.postMessage({\"jupyterEvent\": \"custom.exercise_interaction\", \"data\": {\"outcomeType\": 1, \"valueTowardsCompletion\": 0.3333333333333333, \"interactionType\": 1, \"questionType\": 2, \"questionId\": \"3_MultiWordSearch\", \"learnToolsVersion\": \"0.3.4\", \"failureMessage\": \"\", \"exceptionClass\": \"\", \"trace\": \"\"}}, \"*\")"
      ],
      "text/plain": [
       "<IPython.core.display.Javascript object>"
      ]
     },
     "metadata": {},
     "output_type": "display_data"
    },
    {
     "data": {
      "text/markdown": [
       "<span style=\"color:#33cc33\">Correct</span>"
      ],
      "text/plain": [
       "Correct"
      ]
     },
     "metadata": {},
     "output_type": "display_data"
    }
   ],
   "source": [
    "#def multi_word_search(doc_list, keywords):\n",
    "\n",
    "def multi_word_search(documents, keywords):\n",
    "    keyword_to_indices = {}\n",
    "    for keyword in keywords:\n",
    "        keyword_to_indices[keyword] = word_search(documents, keyword)\n",
    "    return keyword_to_indices\n",
    "    \"\"\"\n",
    "    Takes list of documents (each document is a string) and a list of keywords.  \n",
    "    Returns a dictionary where each key is a keyword, and the value is a list of indices\n",
    "    (from doc_list) of the documents containing that keyword\n",
    "\n",
    "    >>> doc_list = [\"The Learn Python Challenge Casino.\", \"They bought a car and a casino\", \"Casinoville\"]\n",
    "    >>> keywords = ['casino', 'they']\n",
    "    >>> multi_word_search(doc_list, keywords)\n",
    "    {'casino': [0, 1], 'they': [1]}\n",
    "    \"\"\"\n",
    "    \n",
    "# Check your answer\n",
    "q3.check()"
   ]
  },
  {
   "cell_type": "code",
   "execution_count": 12,
   "id": "45251bd2",
   "metadata": {
    "execution": {
     "iopub.execute_input": "2022-03-03T03:56:18.023015Z",
     "iopub.status.busy": "2022-03-03T03:56:18.022215Z",
     "iopub.status.idle": "2022-03-03T03:56:18.027894Z",
     "shell.execute_reply": "2022-03-03T03:56:18.028488Z",
     "shell.execute_reply.started": "2022-03-03T03:54:24.485380Z"
    },
    "papermill": {
     "duration": 0.049484,
     "end_time": "2022-03-03T03:56:18.028674",
     "exception": false,
     "start_time": "2022-03-03T03:56:17.979190",
     "status": "completed"
    },
    "tags": []
   },
   "outputs": [
    {
     "data": {
      "application/javascript": [
       "parent.postMessage({\"jupyterEvent\": \"custom.exercise_interaction\", \"data\": {\"interactionType\": 3, \"questionType\": 2, \"questionId\": \"3_MultiWordSearch\", \"learnToolsVersion\": \"0.3.4\", \"valueTowardsCompletion\": 0.0, \"failureMessage\": \"\", \"exceptionClass\": \"\", \"trace\": \"\", \"outcomeType\": 4}}, \"*\")"
      ],
      "text/plain": [
       "<IPython.core.display.Javascript object>"
      ]
     },
     "metadata": {},
     "output_type": "display_data"
    },
    {
     "data": {
      "text/markdown": [
       "<span style=\"color:#33cc99\">Solution:</span> \n",
       "```python\n",
       "def multi_word_search(documents, keywords):\n",
       "    keyword_to_indices = {}\n",
       "    for keyword in keywords:\n",
       "        keyword_to_indices[keyword] = word_search(documents, keyword)\n",
       "    return keyword_to_indices\n",
       "```"
      ],
      "text/plain": [
       "Solution: \n",
       "```python\n",
       "def multi_word_search(documents, keywords):\n",
       "    keyword_to_indices = {}\n",
       "    for keyword in keywords:\n",
       "        keyword_to_indices[keyword] = word_search(documents, keyword)\n",
       "    return keyword_to_indices\n",
       "```"
      ]
     },
     "metadata": {},
     "output_type": "display_data"
    }
   ],
   "source": [
    "q3.solution()"
   ]
  },
  {
   "cell_type": "markdown",
   "id": "75a436e6",
   "metadata": {
    "papermill": {
     "duration": 0.039359,
     "end_time": "2022-03-03T03:56:18.108046",
     "exception": false,
     "start_time": "2022-03-03T03:56:18.068687",
     "status": "completed"
    },
    "tags": []
   },
   "source": [
    "# Keep Going\n",
    "\n",
    "You've learned a lot. But even the best programmers rely heavily on \"libraries\" of code from other programmers. You'll learn about that in **[the last lesson](https://www.kaggle.com/colinmorris/working-with-external-libraries)**.\n"
   ]
  },
  {
   "cell_type": "markdown",
   "id": "1342d528",
   "metadata": {
    "papermill": {
     "duration": 0.039738,
     "end_time": "2022-03-03T03:56:18.187359",
     "exception": false,
     "start_time": "2022-03-03T03:56:18.147621",
     "status": "completed"
    },
    "tags": []
   },
   "source": [
    "---\n",
    "\n",
    "\n",
    "\n",
    "\n",
    "*Have questions or comments? Visit the [course discussion forum](https://www.kaggle.com/learn/python/discussion) to chat with other learners.*"
   ]
  }
 ],
 "metadata": {
  "kernelspec": {
   "display_name": "Python 3",
   "language": "python",
   "name": "python3"
  },
  "language_info": {
   "codemirror_mode": {
    "name": "ipython",
    "version": 3
   },
   "file_extension": ".py",
   "mimetype": "text/x-python",
   "name": "python",
   "nbconvert_exporter": "python",
   "pygments_lexer": "ipython3",
   "version": "3.7.12"
  },
  "papermill": {
   "default_parameters": {},
   "duration": 13.653404,
   "end_time": "2022-03-03T03:56:18.937851",
   "environment_variables": {},
   "exception": null,
   "input_path": "__notebook__.ipynb",
   "output_path": "__notebook__.ipynb",
   "parameters": {},
   "start_time": "2022-03-03T03:56:05.284447",
   "version": "2.3.3"
  }
 },
 "nbformat": 4,
 "nbformat_minor": 5
}

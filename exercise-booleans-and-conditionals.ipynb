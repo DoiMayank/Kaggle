{
 "cells": [
  {
   "cell_type": "markdown",
   "id": "32602d38",
   "metadata": {
    "papermill": {
     "duration": 0.037299,
     "end_time": "2022-02-25T10:14:16.630661",
     "exception": false,
     "start_time": "2022-02-25T10:14:16.593362",
     "status": "completed"
    },
    "tags": []
   },
   "source": [
    "**This notebook is an exercise in the [Python](https://www.kaggle.com/learn/python) course.  You can reference the tutorial at [this link](https://www.kaggle.com/colinmorris/booleans-and-conditionals).**\n",
    "\n",
    "---\n"
   ]
  },
  {
   "cell_type": "markdown",
   "id": "8fa0e258",
   "metadata": {
    "papermill": {
     "duration": 0.035458,
     "end_time": "2022-02-25T10:14:16.702924",
     "exception": false,
     "start_time": "2022-02-25T10:14:16.667466",
     "status": "completed"
    },
    "tags": []
   },
   "source": [
    "In this exercise, you'll put to work what you have learned about booleans and conditionals.\n",
    "\n",
    "To get started, **run the setup code below** before writing your own code (and if you leave this notebook and come back later, don't forget to run the setup code again)."
   ]
  },
  {
   "cell_type": "code",
   "execution_count": 1,
   "id": "5ec2c8b2",
   "metadata": {
    "execution": {
     "iopub.execute_input": "2022-02-25T10:14:16.778502Z",
     "iopub.status.busy": "2022-02-25T10:14:16.777279Z",
     "iopub.status.idle": "2022-02-25T10:14:16.827110Z",
     "shell.execute_reply": "2022-02-25T10:14:16.827651Z",
     "shell.execute_reply.started": "2022-02-25T10:02:38.441166Z"
    },
    "papermill": {
     "duration": 0.089382,
     "end_time": "2022-02-25T10:14:16.827969",
     "exception": false,
     "start_time": "2022-02-25T10:14:16.738587",
     "status": "completed"
    },
    "tags": []
   },
   "outputs": [
    {
     "name": "stdout",
     "output_type": "stream",
     "text": [
      "Setup complete.\n"
     ]
    }
   ],
   "source": [
    "from learntools.core import binder; binder.bind(globals())\n",
    "from learntools.python.ex3 import *\n",
    "print('Setup complete.')"
   ]
  },
  {
   "cell_type": "markdown",
   "id": "edafadcb",
   "metadata": {
    "papermill": {
     "duration": 0.03763,
     "end_time": "2022-02-25T10:14:16.902550",
     "exception": false,
     "start_time": "2022-02-25T10:14:16.864920",
     "status": "completed"
    },
    "tags": []
   },
   "source": [
    "# 1.\n",
    "\n",
    "Many programming languages have [`sign`](https://en.wikipedia.org/wiki/Sign_function) available as a built-in function. Python doesn't, but we can define our own!\n",
    "\n",
    "In the cell below, define a function called `sign` which takes a numerical argument and returns -1 if it's negative, 1 if it's positive, and 0 if it's 0."
   ]
  },
  {
   "cell_type": "code",
   "execution_count": 2,
   "id": "6c7e6535",
   "metadata": {
    "execution": {
     "iopub.execute_input": "2022-02-25T10:14:16.982413Z",
     "iopub.status.busy": "2022-02-25T10:14:16.981674Z",
     "iopub.status.idle": "2022-02-25T10:14:16.991548Z",
     "shell.execute_reply": "2022-02-25T10:14:16.992181Z",
     "shell.execute_reply.started": "2022-02-23T07:43:32.461826Z"
    },
    "papermill": {
     "duration": 0.050855,
     "end_time": "2022-02-25T10:14:16.992351",
     "exception": false,
     "start_time": "2022-02-25T10:14:16.941496",
     "status": "completed"
    },
    "tags": []
   },
   "outputs": [
    {
     "data": {
      "application/javascript": [
       "parent.postMessage({\"jupyterEvent\": \"custom.exercise_interaction\", \"data\": {\"outcomeType\": 1, \"valueTowardsCompletion\": 0.2, \"interactionType\": 1, \"questionType\": 2, \"questionId\": \"1_SignFunctionProblem\", \"learnToolsVersion\": \"0.3.4\", \"failureMessage\": \"\", \"exceptionClass\": \"\", \"trace\": \"\"}}, \"*\")"
      ],
      "text/plain": [
       "<IPython.core.display.Javascript object>"
      ]
     },
     "metadata": {},
     "output_type": "display_data"
    },
    {
     "data": {
      "text/markdown": [
       "<span style=\"color:#33cc33\">Correct</span>"
      ],
      "text/plain": [
       "Correct"
      ]
     },
     "metadata": {},
     "output_type": "display_data"
    }
   ],
   "source": [
    "# Your code goes here. Define a function called 'sign'\n",
    "def sign(x):\n",
    "    if x < 0:\n",
    "        return -1\n",
    "    elif x > 0:\n",
    "        return 1\n",
    "    else:\n",
    "        x == 0\n",
    "        return 0\n",
    "    \n",
    "# Check your answer\n",
    "q1.check()"
   ]
  },
  {
   "cell_type": "code",
   "execution_count": 3,
   "id": "21ada008",
   "metadata": {
    "execution": {
     "iopub.execute_input": "2022-02-25T10:14:17.073006Z",
     "iopub.status.busy": "2022-02-25T10:14:17.072269Z",
     "iopub.status.idle": "2022-02-25T10:14:17.075950Z",
     "shell.execute_reply": "2022-02-25T10:14:17.076478Z",
     "shell.execute_reply.started": "2022-02-23T07:43:39.945739Z"
    },
    "papermill": {
     "duration": 0.045572,
     "end_time": "2022-02-25T10:14:17.076655",
     "exception": false,
     "start_time": "2022-02-25T10:14:17.031083",
     "status": "completed"
    },
    "tags": []
   },
   "outputs": [],
   "source": [
    "#q1.solution()"
   ]
  },
  {
   "cell_type": "markdown",
   "id": "4b20c6e6",
   "metadata": {
    "papermill": {
     "duration": 0.037322,
     "end_time": "2022-02-25T10:14:17.153241",
     "exception": false,
     "start_time": "2022-02-25T10:14:17.115919",
     "status": "completed"
    },
    "tags": []
   },
   "source": [
    "# 2.\n",
    "\n",
    "We've decided to add \"logging\" to our `to_smash` function from the previous exercise."
   ]
  },
  {
   "cell_type": "code",
   "execution_count": 4,
   "id": "69353c0a",
   "metadata": {
    "execution": {
     "iopub.execute_input": "2022-02-25T10:14:17.232189Z",
     "iopub.status.busy": "2022-02-25T10:14:17.231460Z",
     "iopub.status.idle": "2022-02-25T10:14:17.237995Z",
     "shell.execute_reply": "2022-02-25T10:14:17.238488Z",
     "shell.execute_reply.started": "2022-02-23T08:00:24.243314Z"
    },
    "papermill": {
     "duration": 0.047675,
     "end_time": "2022-02-25T10:14:17.238659",
     "exception": false,
     "start_time": "2022-02-25T10:14:17.190984",
     "status": "completed"
    },
    "tags": []
   },
   "outputs": [
    {
     "name": "stdout",
     "output_type": "stream",
     "text": [
      "Splitting 91 candies\n"
     ]
    },
    {
     "data": {
      "text/plain": [
       "1"
      ]
     },
     "execution_count": 4,
     "metadata": {},
     "output_type": "execute_result"
    }
   ],
   "source": [
    "def to_smash(total_candies):\n",
    "    \"\"\"Return the number of leftover candies that must be smashed after distributing\n",
    "    the given number of candies evenly between 3 friends.\n",
    "    \n",
    "    >>> to_smash(91)\n",
    "    1\n",
    "    \"\"\"\n",
    "    print(\"Splitting\", total_candies, \"candies\")\n",
    "    return total_candies % 3\n",
    "\n",
    "to_smash(91)"
   ]
  },
  {
   "cell_type": "markdown",
   "id": "505967b5",
   "metadata": {
    "papermill": {
     "duration": 0.03832,
     "end_time": "2022-02-25T10:14:17.315915",
     "exception": false,
     "start_time": "2022-02-25T10:14:17.277595",
     "status": "completed"
    },
    "tags": []
   },
   "source": [
    "What happens if we call it with `total_candies = 1`?"
   ]
  },
  {
   "cell_type": "code",
   "execution_count": 5,
   "id": "5eb92a9c",
   "metadata": {
    "execution": {
     "iopub.execute_input": "2022-02-25T10:14:17.396222Z",
     "iopub.status.busy": "2022-02-25T10:14:17.395467Z",
     "iopub.status.idle": "2022-02-25T10:14:17.402068Z",
     "shell.execute_reply": "2022-02-25T10:14:17.402861Z",
     "shell.execute_reply.started": "2022-02-23T08:00:41.124109Z"
    },
    "papermill": {
     "duration": 0.048888,
     "end_time": "2022-02-25T10:14:17.403104",
     "exception": false,
     "start_time": "2022-02-25T10:14:17.354216",
     "status": "completed"
    },
    "tags": []
   },
   "outputs": [
    {
     "name": "stdout",
     "output_type": "stream",
     "text": [
      "Splitting 1 candies\n"
     ]
    },
    {
     "data": {
      "text/plain": [
       "1"
      ]
     },
     "execution_count": 5,
     "metadata": {},
     "output_type": "execute_result"
    }
   ],
   "source": [
    "to_smash(1)"
   ]
  },
  {
   "cell_type": "markdown",
   "id": "ff95304d",
   "metadata": {
    "papermill": {
     "duration": 0.038868,
     "end_time": "2022-02-25T10:14:17.484778",
     "exception": false,
     "start_time": "2022-02-25T10:14:17.445910",
     "status": "completed"
    },
    "tags": []
   },
   "source": [
    "That isn't great grammar!\n",
    "\n",
    "Modify the definition in the cell below to correct the grammar of our print statement. (If there's only one candy, we should use the singular \"candy\" instead of the plural \"candies\")"
   ]
  },
  {
   "cell_type": "code",
   "execution_count": 6,
   "id": "000940d7",
   "metadata": {
    "execution": {
     "iopub.execute_input": "2022-02-25T10:14:17.570554Z",
     "iopub.status.busy": "2022-02-25T10:14:17.569670Z",
     "iopub.status.idle": "2022-02-25T10:14:17.576017Z",
     "shell.execute_reply": "2022-02-25T10:14:17.576505Z",
     "shell.execute_reply.started": "2022-02-23T08:03:55.573418Z"
    },
    "papermill": {
     "duration": 0.052203,
     "end_time": "2022-02-25T10:14:17.576682",
     "exception": false,
     "start_time": "2022-02-25T10:14:17.524479",
     "status": "completed"
    },
    "tags": []
   },
   "outputs": [
    {
     "name": "stdout",
     "output_type": "stream",
     "text": [
      "Splitting 91 candies\n",
      "Splitting 1 candie\n"
     ]
    },
    {
     "data": {
      "text/plain": [
       "1"
      ]
     },
     "execution_count": 6,
     "metadata": {},
     "output_type": "execute_result"
    }
   ],
   "source": [
    "def to_smash(total_candies):\n",
    "    \"\"\"Return the number of leftover candies that must be smashed after distributing\n",
    "    the given number of candies evenly between 3 friends.\n",
    "    \n",
    "    >>> to_smash(91)\n",
    "    1\n",
    "    \"\"\"\n",
    "    if total_candies == 1:\n",
    "      print(\"Splitting\", total_candies, \"candie\")\n",
    "    else:\n",
    "      print(\"Splitting\", total_candies, \"candies\")\n",
    "    return total_candies % 3\n",
    "\n",
    "to_smash(91)\n",
    "to_smash(1)"
   ]
  },
  {
   "cell_type": "markdown",
   "id": "613f4b17",
   "metadata": {
    "papermill": {
     "duration": 0.04064,
     "end_time": "2022-02-25T10:14:17.657584",
     "exception": false,
     "start_time": "2022-02-25T10:14:17.616944",
     "status": "completed"
    },
    "tags": []
   },
   "source": [
    "To get credit for completing this problem, and to see the official answer, run the code cell below."
   ]
  },
  {
   "cell_type": "code",
   "execution_count": 7,
   "id": "58b99228",
   "metadata": {
    "execution": {
     "iopub.execute_input": "2022-02-25T10:14:17.744999Z",
     "iopub.status.busy": "2022-02-25T10:14:17.743946Z",
     "iopub.status.idle": "2022-02-25T10:14:17.749430Z",
     "shell.execute_reply": "2022-02-25T10:14:17.749982Z",
     "shell.execute_reply.started": "2022-02-23T08:04:13.591045Z"
    },
    "papermill": {
     "duration": 0.051643,
     "end_time": "2022-02-25T10:14:17.750159",
     "exception": false,
     "start_time": "2022-02-25T10:14:17.698516",
     "status": "completed"
    },
    "tags": []
   },
   "outputs": [
    {
     "data": {
      "application/javascript": [
       "parent.postMessage({\"jupyterEvent\": \"custom.exercise_interaction\", \"data\": {\"interactionType\": 3, \"questionType\": 4, \"questionId\": \"2_PluralizationProblem\", \"learnToolsVersion\": \"0.3.4\", \"valueTowardsCompletion\": 0.0, \"failureMessage\": \"\", \"exceptionClass\": \"\", \"trace\": \"\", \"outcomeType\": 4}}, \"*\")"
      ],
      "text/plain": [
       "<IPython.core.display.Javascript object>"
      ]
     },
     "metadata": {},
     "output_type": "display_data"
    },
    {
     "data": {
      "text/markdown": [
       "<span style=\"color:#33cc99\">Solution:</span> A straightforward (and totally fine) solution is to replace the original `print` call with:\n",
       "\n",
       "```python\n",
       "if total_candies == 1:\n",
       "    print(\"Splitting 1 candy\")\n",
       "else:\n",
       "    print(\"Splitting\", total_candies, \"candies\")\n",
       "```\n",
       "\n",
       "Here's a slightly more succinct solution using a conditional expression:\n",
       "\n",
       "```python\n",
       "print(\"Splitting\", total_candies, \"candy\" if total_candies == 1 else \"candies\")\n",
       "```"
      ],
      "text/plain": [
       "Solution: A straightforward (and totally fine) solution is to replace the original `print` call with:\n",
       "\n",
       "```python\n",
       "if total_candies == 1:\n",
       "    print(\"Splitting 1 candy\")\n",
       "else:\n",
       "    print(\"Splitting\", total_candies, \"candies\")\n",
       "```\n",
       "\n",
       "Here's a slightly more succinct solution using a conditional expression:\n",
       "\n",
       "```python\n",
       "print(\"Splitting\", total_candies, \"candy\" if total_candies == 1 else \"candies\")\n",
       "```"
      ]
     },
     "metadata": {},
     "output_type": "display_data"
    }
   ],
   "source": [
    "# Check your answer (Run this code cell to receive credit!)\n",
    "q2.solution()"
   ]
  },
  {
   "cell_type": "markdown",
   "id": "f42fd883",
   "metadata": {
    "papermill": {
     "duration": 0.041141,
     "end_time": "2022-02-25T10:14:17.833190",
     "exception": false,
     "start_time": "2022-02-25T10:14:17.792049",
     "status": "completed"
    },
    "tags": []
   },
   "source": [
    "# 3. <span title=\"A bit spicy\" style=\"color: darkgreen \">🌶️</span>\n",
    "\n",
    "In the tutorial, we talked about deciding whether we're prepared for the weather. I said that I'm safe from today's weather if...\n",
    "- I have an umbrella...\n",
    "- or if the rain isn't too heavy and I have a hood...\n",
    "- otherwise, I'm still fine unless it's raining *and* it's a workday\n",
    "\n",
    "The function below uses our first attempt at turning this logic into a Python expression. I claimed that there was a bug in that code. Can you find it?\n",
    "\n",
    "To prove that `prepared_for_weather` is buggy, come up with a set of inputs where either:\n",
    "- the function returns `False` (but should have returned `True`), or\n",
    "- the function returned `True` (but should have returned `False`).\n",
    "\n",
    "To get credit for completing this question, your code should return a <font color='#33cc33'>Correct</font> result."
   ]
  },
  {
   "cell_type": "code",
   "execution_count": 8,
   "id": "5507f1eb",
   "metadata": {
    "execution": {
     "iopub.execute_input": "2022-02-25T10:14:17.920944Z",
     "iopub.status.busy": "2022-02-25T10:14:17.919601Z",
     "iopub.status.idle": "2022-02-25T10:14:17.932676Z",
     "shell.execute_reply": "2022-02-25T10:14:17.933197Z",
     "shell.execute_reply.started": "2022-02-23T08:16:07.212953Z"
    },
    "papermill": {
     "duration": 0.058815,
     "end_time": "2022-02-25T10:14:17.933366",
     "exception": false,
     "start_time": "2022-02-25T10:14:17.874551",
     "status": "completed"
    },
    "tags": []
   },
   "outputs": [
    {
     "name": "stdout",
     "output_type": "stream",
     "text": [
      "True\n",
      "False\n"
     ]
    },
    {
     "data": {
      "application/javascript": [
       "parent.postMessage({\"jupyterEvent\": \"custom.exercise_interaction\", \"data\": {\"outcomeType\": 1, \"valueTowardsCompletion\": 0.2, \"interactionType\": 1, \"questionType\": 1, \"questionId\": \"3_WeatherDebug\", \"learnToolsVersion\": \"0.3.4\", \"failureMessage\": \"\", \"exceptionClass\": \"\", \"trace\": \"\"}}, \"*\")"
      ],
      "text/plain": [
       "<IPython.core.display.Javascript object>"
      ]
     },
     "metadata": {},
     "output_type": "display_data"
    },
    {
     "data": {
      "text/markdown": [
       "<span style=\"color:#33cc33\">Correct:</span> \n",
       "\n",
       "One example of a failing test case is:\n",
       "\n",
       "```python\n",
       "have_umbrella = False\n",
       "rain_level = 0.0\n",
       "have_hood = False\n",
       "is_workday = False\n",
       "```\n",
       "\n",
       "Clearly we're prepared for the weather in this case. It's not raining. Not only that, it's not a workday, so we don't even need to leave the house! But our function will return False on these inputs.\n",
       "\n",
       "The key problem is that Python implictly parenthesizes the last part as:\n",
       "\n",
       "```python\n",
       "(not (rain_level > 0)) and is_workday\n",
       "```\n",
       "\n",
       "Whereas what we were trying to express would look more like:\n",
       "\n",
       "```python\n",
       "not (rain_level > 0 and is_workday)\n",
       "```\n"
      ],
      "text/plain": [
       "Correct: \n",
       "\n",
       "One example of a failing test case is:\n",
       "\n",
       "```python\n",
       "have_umbrella = False\n",
       "rain_level = 0.0\n",
       "have_hood = False\n",
       "is_workday = False\n",
       "```\n",
       "\n",
       "Clearly we're prepared for the weather in this case. It's not raining. Not only that, it's not a workday, so we don't even need to leave the house! But our function will return False on these inputs.\n",
       "\n",
       "The key problem is that Python implictly parenthesizes the last part as:\n",
       "\n",
       "```python\n",
       "(not (rain_level > 0)) and is_workday\n",
       "```\n",
       "\n",
       "Whereas what we were trying to express would look more like:\n",
       "\n",
       "```python\n",
       "not (rain_level > 0 and is_workday)\n",
       "```"
      ]
     },
     "metadata": {},
     "output_type": "display_data"
    }
   ],
   "source": [
    "def prepared_for_weather(have_umbrella, rain_level, have_hood, is_workday):\n",
    "    # Don't change this code. Our goal is just to find the bug, not fix it!\n",
    "    return have_umbrella or rain_level < 5 and have_hood or not rain_level > 0 and is_workday\n",
    "\n",
    "# Change the values of these inputs so they represent a case where prepared_for_weather\n",
    "# returns the wrong answer.\n",
    "have_umbrella = True\n",
    "rain_level = 0.0\n",
    "have_hood = True\n",
    "is_workday = True\n",
    "\n",
    "# Check what the function returns given the current values of the variables above\n",
    "actual = prepared_for_weather(have_umbrella, rain_level, have_hood, is_workday)\n",
    "print(actual)\n",
    "have_umbrella = False\n",
    "rain_level = 0.0\n",
    "have_hood = False\n",
    "is_workday = False\n",
    "actuals = prepared_for_weather(have_umbrella, rain_level, have_hood, is_workday)\n",
    "print(actuals)\n",
    "# Check your answer\n",
    "q3.check()"
   ]
  },
  {
   "cell_type": "code",
   "execution_count": 9,
   "id": "eebb9ee8",
   "metadata": {
    "execution": {
     "iopub.execute_input": "2022-02-25T10:14:18.022805Z",
     "iopub.status.busy": "2022-02-25T10:14:18.022119Z",
     "iopub.status.idle": "2022-02-25T10:14:18.024508Z",
     "shell.execute_reply": "2022-02-25T10:14:18.025115Z",
     "shell.execute_reply.started": "2022-02-23T08:16:31.032199Z"
    },
    "papermill": {
     "duration": 0.049301,
     "end_time": "2022-02-25T10:14:18.025288",
     "exception": false,
     "start_time": "2022-02-25T10:14:17.975987",
     "status": "completed"
    },
    "tags": []
   },
   "outputs": [],
   "source": [
    "#q3.hint()\n",
    "#q3.solution()"
   ]
  },
  {
   "cell_type": "markdown",
   "id": "fc525673",
   "metadata": {
    "papermill": {
     "duration": 0.043411,
     "end_time": "2022-02-25T10:14:18.111342",
     "exception": false,
     "start_time": "2022-02-25T10:14:18.067931",
     "status": "completed"
    },
    "tags": []
   },
   "source": [
    "# 4.\n",
    "\n",
    "The function `is_negative` below is implemented correctly - it returns True if the given number is negative and False otherwise.\n",
    "\n",
    "However, it's more verbose than it needs to be. We can actually reduce the number of lines of code in this function by *75%* while keeping the same behaviour. \n",
    "\n",
    "See if you can come up with an equivalent body that uses just **one line** of code, and put it in the function `concise_is_negative`. (HINT: you don't even need Python's ternary syntax)"
   ]
  },
  {
   "cell_type": "code",
   "execution_count": 10,
   "id": "7bb3d841",
   "metadata": {
    "execution": {
     "iopub.execute_input": "2022-02-25T10:14:18.203539Z",
     "iopub.status.busy": "2022-02-25T10:14:18.202893Z",
     "iopub.status.idle": "2022-02-25T10:14:18.205377Z",
     "shell.execute_reply": "2022-02-25T10:14:18.205875Z",
     "shell.execute_reply.started": "2022-02-23T08:51:55.857273Z"
    },
    "papermill": {
     "duration": 0.051859,
     "end_time": "2022-02-25T10:14:18.206044",
     "exception": false,
     "start_time": "2022-02-25T10:14:18.154185",
     "status": "completed"
    },
    "tags": []
   },
   "outputs": [
    {
     "data": {
      "text/plain": [
       "False"
      ]
     },
     "execution_count": 10,
     "metadata": {},
     "output_type": "execute_result"
    }
   ],
   "source": [
    "def is_negative(number):\n",
    "    if number < 0:\n",
    "        return True\n",
    "    else:\n",
    "        return False\n",
    "\n",
    "def concise_is_negative(number):\n",
    "    return number < 0\n",
    "concise_is_negative(23)\n",
    "# Check your answer\n",
    "#q4.check()"
   ]
  },
  {
   "cell_type": "code",
   "execution_count": 11,
   "id": "d1e25f43",
   "metadata": {
    "execution": {
     "iopub.execute_input": "2022-02-25T10:14:18.296596Z",
     "iopub.status.busy": "2022-02-25T10:14:18.294881Z",
     "iopub.status.idle": "2022-02-25T10:14:18.298468Z",
     "shell.execute_reply": "2022-02-25T10:14:18.298970Z",
     "shell.execute_reply.started": "2022-02-23T08:52:23.985059Z"
    },
    "papermill": {
     "duration": 0.050059,
     "end_time": "2022-02-25T10:14:18.299150",
     "exception": false,
     "start_time": "2022-02-25T10:14:18.249091",
     "status": "completed"
    },
    "tags": []
   },
   "outputs": [],
   "source": [
    "#q4.hint()\n",
    "#q4.solution()"
   ]
  },
  {
   "cell_type": "markdown",
   "id": "6f4b7d87",
   "metadata": {
    "papermill": {
     "duration": 0.042665,
     "end_time": "2022-02-25T10:14:18.384950",
     "exception": false,
     "start_time": "2022-02-25T10:14:18.342285",
     "status": "completed"
    },
    "tags": []
   },
   "source": [
    "# 5a.\n",
    "\n",
    "The boolean variables `ketchup`, `mustard` and `onion` represent whether a customer wants a particular topping on their hot dog. We want to implement a number of boolean functions that correspond to some yes-or-no questions about the customer's order. For example:"
   ]
  },
  {
   "cell_type": "code",
   "execution_count": 12,
   "id": "9f3516f7",
   "metadata": {
    "execution": {
     "iopub.execute_input": "2022-02-25T10:14:18.474035Z",
     "iopub.status.busy": "2022-02-25T10:14:18.473402Z",
     "iopub.status.idle": "2022-02-25T10:14:18.477856Z",
     "shell.execute_reply": "2022-02-25T10:14:18.477340Z",
     "shell.execute_reply.started": "2022-02-23T08:54:21.583983Z"
    },
    "papermill": {
     "duration": 0.050048,
     "end_time": "2022-02-25T10:14:18.478009",
     "exception": false,
     "start_time": "2022-02-25T10:14:18.427961",
     "status": "completed"
    },
    "tags": []
   },
   "outputs": [],
   "source": [
    "def onionless(ketchup, mustard, onion):\n",
    "    \"\"\"Return whether the customer doesn't want onions.\n",
    "    \"\"\"\n",
    "    return not onion"
   ]
  },
  {
   "cell_type": "code",
   "execution_count": 13,
   "id": "4fe345e8",
   "metadata": {
    "execution": {
     "iopub.execute_input": "2022-02-25T10:14:18.570955Z",
     "iopub.status.busy": "2022-02-25T10:14:18.569876Z",
     "iopub.status.idle": "2022-02-25T10:14:18.574954Z",
     "shell.execute_reply": "2022-02-25T10:14:18.575447Z",
     "shell.execute_reply.started": "2022-02-23T08:59:48.393076Z"
    },
    "papermill": {
     "duration": 0.054477,
     "end_time": "2022-02-25T10:14:18.575613",
     "exception": false,
     "start_time": "2022-02-25T10:14:18.521136",
     "status": "completed"
    },
    "tags": []
   },
   "outputs": [
    {
     "data": {
      "application/javascript": [
       "parent.postMessage({\"jupyterEvent\": \"custom.exercise_interaction\", \"data\": {\"outcomeType\": 1, \"valueTowardsCompletion\": 0.2, \"interactionType\": 1, \"questionType\": 2, \"questionId\": \"5.1_AllToppings\", \"learnToolsVersion\": \"0.3.4\", \"failureMessage\": \"\", \"exceptionClass\": \"\", \"trace\": \"\"}}, \"*\")"
      ],
      "text/plain": [
       "<IPython.core.display.Javascript object>"
      ]
     },
     "metadata": {},
     "output_type": "display_data"
    },
    {
     "data": {
      "text/markdown": [
       "<span style=\"color:#33cc33\">Correct</span>"
      ],
      "text/plain": [
       "Correct"
      ]
     },
     "metadata": {},
     "output_type": "display_data"
    }
   ],
   "source": [
    "def wants_all_toppings(ketchup, mustard, onion):\n",
    "    \"\"\"Return whether the customer wants \"the works\" (all 3 toppings)\n",
    "    \"\"\"\n",
    "    return ketchup and mustard and onion\n",
    "\n",
    "# Check your answer\n",
    "q5.a.check()"
   ]
  },
  {
   "cell_type": "code",
   "execution_count": 14,
   "id": "00905606",
   "metadata": {
    "execution": {
     "iopub.execute_input": "2022-02-25T10:14:18.668103Z",
     "iopub.status.busy": "2022-02-25T10:14:18.667439Z",
     "iopub.status.idle": "2022-02-25T10:14:18.669361Z",
     "shell.execute_reply": "2022-02-25T10:14:18.669854Z",
     "shell.execute_reply.started": "2022-02-23T08:59:52.67523Z"
    },
    "papermill": {
     "duration": 0.050114,
     "end_time": "2022-02-25T10:14:18.670034",
     "exception": false,
     "start_time": "2022-02-25T10:14:18.619920",
     "status": "completed"
    },
    "tags": []
   },
   "outputs": [],
   "source": [
    "#q5.a.hint()\n",
    "#q5.a.solution()"
   ]
  },
  {
   "cell_type": "markdown",
   "id": "e01ab047",
   "metadata": {
    "papermill": {
     "duration": 0.045445,
     "end_time": "2022-02-25T10:14:18.760221",
     "exception": false,
     "start_time": "2022-02-25T10:14:18.714776",
     "status": "completed"
    },
    "tags": []
   },
   "source": [
    "# 5b.\n",
    "\n",
    "For the next function, fill in the body to match the English description in the docstring. "
   ]
  },
  {
   "cell_type": "code",
   "execution_count": 15,
   "id": "0d487ef8",
   "metadata": {
    "execution": {
     "iopub.execute_input": "2022-02-25T10:14:18.861146Z",
     "iopub.status.busy": "2022-02-25T10:14:18.860098Z",
     "iopub.status.idle": "2022-02-25T10:14:18.867199Z",
     "shell.execute_reply": "2022-02-25T10:14:18.867765Z",
     "shell.execute_reply.started": "2022-02-25T09:23:05.935371Z"
    },
    "papermill": {
     "duration": 0.059033,
     "end_time": "2022-02-25T10:14:18.867942",
     "exception": false,
     "start_time": "2022-02-25T10:14:18.808909",
     "status": "completed"
    },
    "tags": []
   },
   "outputs": [
    {
     "data": {
      "application/javascript": [
       "parent.postMessage({\"jupyterEvent\": \"custom.exercise_interaction\", \"data\": {\"outcomeType\": 1, \"valueTowardsCompletion\": 0.2, \"interactionType\": 1, \"questionType\": 2, \"questionId\": \"5.2_PlainDog\", \"learnToolsVersion\": \"0.3.4\", \"failureMessage\": \"\", \"exceptionClass\": \"\", \"trace\": \"\"}}, \"*\")"
      ],
      "text/plain": [
       "<IPython.core.display.Javascript object>"
      ]
     },
     "metadata": {},
     "output_type": "display_data"
    },
    {
     "data": {
      "text/markdown": [
       "<span style=\"color:#33cc33\">Correct:</span> \n",
       "\n",
       "One solution looks like:\n",
       "```python\n",
       "return not ketchup and not mustard and not onion\n",
       "```\n",
       "\n",
       "We can also [\"factor out\" the nots](https://en.wikipedia.org/wiki/De_Morgan%27s_laws) to get:\n",
       "\n",
       "```python\n",
       "return not (ketchup or mustard or onion)\n",
       "```"
      ],
      "text/plain": [
       "Correct: \n",
       "\n",
       "One solution looks like:\n",
       "```python\n",
       "return not ketchup and not mustard and not onion\n",
       "```\n",
       "\n",
       "We can also [\"factor out\" the nots](https://en.wikipedia.org/wiki/De_Morgan%27s_laws) to get:\n",
       "\n",
       "```python\n",
       "return not (ketchup or mustard or onion)\n",
       "```"
      ]
     },
     "metadata": {},
     "output_type": "display_data"
    }
   ],
   "source": [
    "def wants_plain_hotdog(ketchup, mustard, onion):\n",
    "    \"\"\"Return whether the customer wants a plain hot dog with no toppings.\n",
    "    \"\"\"\n",
    "    return not ketchup and not mustard and not onion\n",
    "\n",
    "# Check your answer\n",
    "q5.b.check()"
   ]
  },
  {
   "cell_type": "code",
   "execution_count": 16,
   "id": "d36f044a",
   "metadata": {
    "execution": {
     "iopub.execute_input": "2022-02-25T10:14:18.964428Z",
     "iopub.status.busy": "2022-02-25T10:14:18.963753Z",
     "iopub.status.idle": "2022-02-25T10:14:18.966378Z",
     "shell.execute_reply": "2022-02-25T10:14:18.967027Z",
     "shell.execute_reply.started": "2022-02-25T09:22:14.291825Z"
    },
    "papermill": {
     "duration": 0.052444,
     "end_time": "2022-02-25T10:14:18.967204",
     "exception": false,
     "start_time": "2022-02-25T10:14:18.914760",
     "status": "completed"
    },
    "tags": []
   },
   "outputs": [],
   "source": [
    "#q5.b.hint()\n",
    "#q5.b.solution()"
   ]
  },
  {
   "cell_type": "markdown",
   "id": "e11f9302",
   "metadata": {
    "papermill": {
     "duration": 0.046996,
     "end_time": "2022-02-25T10:14:19.060606",
     "exception": false,
     "start_time": "2022-02-25T10:14:19.013610",
     "status": "completed"
    },
    "tags": []
   },
   "source": [
    "# 5c.\n",
    "\n",
    "You know what to do: for the next function, fill in the body to match the English description in the docstring."
   ]
  },
  {
   "cell_type": "code",
   "execution_count": 17,
   "id": "2dd6d1b6",
   "metadata": {
    "execution": {
     "iopub.execute_input": "2022-02-25T10:14:19.158136Z",
     "iopub.status.busy": "2022-02-25T10:14:19.157473Z",
     "iopub.status.idle": "2022-02-25T10:14:19.165308Z",
     "shell.execute_reply": "2022-02-25T10:14:19.165851Z",
     "shell.execute_reply.started": "2022-02-25T09:30:51.867459Z"
    },
    "papermill": {
     "duration": 0.058513,
     "end_time": "2022-02-25T10:14:19.166031",
     "exception": false,
     "start_time": "2022-02-25T10:14:19.107518",
     "status": "completed"
    },
    "tags": []
   },
   "outputs": [
    {
     "data": {
      "application/javascript": [
       "parent.postMessage({\"jupyterEvent\": \"custom.exercise_interaction\", \"data\": {\"outcomeType\": 1, \"valueTowardsCompletion\": 0.2, \"interactionType\": 1, \"questionType\": 2, \"questionId\": \"5.3_OneSauce\", \"learnToolsVersion\": \"0.3.4\", \"failureMessage\": \"\", \"exceptionClass\": \"\", \"trace\": \"\"}}, \"*\")"
      ],
      "text/plain": [
       "<IPython.core.display.Javascript object>"
      ]
     },
     "metadata": {},
     "output_type": "display_data"
    },
    {
     "data": {
      "text/markdown": [
       "<span style=\"color:#33cc33\">Correct</span>"
      ],
      "text/plain": [
       "Correct"
      ]
     },
     "metadata": {},
     "output_type": "display_data"
    }
   ],
   "source": [
    "def exactly_one_sauce(ketchup, mustard, onion):\n",
    "    \"\"\"Return whether the customer wants either ketchup or mustard, but not both.\n",
    "    (You may be familiar with this operation under the name \"exclusive or\")\n",
    "    \"\"\"\n",
    "    return (ketchup and not mustard) or (mustard and not ketchup)\n",
    "      \n",
    "\n",
    "# Check your answer\n",
    "q5.c.check()"
   ]
  },
  {
   "cell_type": "code",
   "execution_count": 18,
   "id": "89ac3941",
   "metadata": {
    "execution": {
     "iopub.execute_input": "2022-02-25T10:14:19.265151Z",
     "iopub.status.busy": "2022-02-25T10:14:19.264456Z",
     "iopub.status.idle": "2022-02-25T10:14:19.267347Z",
     "shell.execute_reply": "2022-02-25T10:14:19.267962Z",
     "shell.execute_reply.started": "2022-02-25T09:31:38.703121Z"
    },
    "papermill": {
     "duration": 0.053548,
     "end_time": "2022-02-25T10:14:19.268135",
     "exception": false,
     "start_time": "2022-02-25T10:14:19.214587",
     "status": "completed"
    },
    "tags": []
   },
   "outputs": [],
   "source": [
    "#q5.c.hint()\n",
    "#q5.c.solution()"
   ]
  },
  {
   "cell_type": "markdown",
   "id": "3983e8e0",
   "metadata": {
    "papermill": {
     "duration": 0.046432,
     "end_time": "2022-02-25T10:14:19.361441",
     "exception": false,
     "start_time": "2022-02-25T10:14:19.315009",
     "status": "completed"
    },
    "tags": []
   },
   "source": [
    "# 6. <span title=\"A bit spicy\" style=\"color: darkgreen \">🌶️</span>\n",
    "\n",
    "We’ve seen that calling `bool()` on an integer returns `False` if it’s equal to 0 and `True` otherwise. What happens if we call `int()` on a bool? Try it out in the notebook cell below.\n",
    "\n",
    "Can you take advantage of this to write a succinct function that corresponds to the English sentence \"does the customer want exactly one topping?\"?"
   ]
  },
  {
   "cell_type": "code",
   "execution_count": 19,
   "id": "e11a32ca",
   "metadata": {
    "execution": {
     "iopub.execute_input": "2022-02-25T10:14:19.457799Z",
     "iopub.status.busy": "2022-02-25T10:14:19.457184Z",
     "iopub.status.idle": "2022-02-25T10:14:19.461832Z",
     "shell.execute_reply": "2022-02-25T10:14:19.462437Z",
     "shell.execute_reply.started": "2022-02-25T09:34:59.484933Z"
    },
    "papermill": {
     "duration": 0.054663,
     "end_time": "2022-02-25T10:14:19.462600",
     "exception": false,
     "start_time": "2022-02-25T10:14:19.407937",
     "status": "completed"
    },
    "tags": []
   },
   "outputs": [
    {
     "data": {
      "text/plain": [
       "9"
      ]
     },
     "execution_count": 19,
     "metadata": {},
     "output_type": "execute_result"
    }
   ],
   "source": [
    "int(9.8)"
   ]
  },
  {
   "cell_type": "code",
   "execution_count": 20,
   "id": "bf26ce3a",
   "metadata": {
    "execution": {
     "iopub.execute_input": "2022-02-25T10:14:19.559937Z",
     "iopub.status.busy": "2022-02-25T10:14:19.559287Z",
     "iopub.status.idle": "2022-02-25T10:14:19.566935Z",
     "shell.execute_reply": "2022-02-25T10:14:19.567487Z",
     "shell.execute_reply.started": "2022-02-25T09:37:56.033527Z"
    },
    "papermill": {
     "duration": 0.058054,
     "end_time": "2022-02-25T10:14:19.567657",
     "exception": false,
     "start_time": "2022-02-25T10:14:19.509603",
     "status": "completed"
    },
    "tags": []
   },
   "outputs": [
    {
     "data": {
      "application/javascript": [
       "parent.postMessage({\"jupyterEvent\": \"custom.exercise_interaction\", \"data\": {\"outcomeType\": 1, \"valueTowardsCompletion\": 0.2, \"interactionType\": 1, \"questionType\": 2, \"questionId\": \"6_OneTopping\", \"learnToolsVersion\": \"0.3.4\", \"failureMessage\": \"\", \"exceptionClass\": \"\", \"trace\": \"\"}}, \"*\")"
      ],
      "text/plain": [
       "<IPython.core.display.Javascript object>"
      ]
     },
     "metadata": {},
     "output_type": "display_data"
    },
    {
     "data": {
      "text/markdown": [
       "<span style=\"color:#33cc33\">Correct:</span> \n",
       "\n",
       "This condition would be pretty complicated to express using just `and`, `or` and `not`, but using boolean-to-integer conversion gives us this short solution:\n",
       "```python\n",
       "return (int(ketchup) + int(mustard) + int(onion)) == 1\n",
       "```\n",
       "\n",
       "Fun fact: we don't technically need to call `int` on the arguments. Just by doing addition with booleans, Python implicitly does the integer conversion. So we could also write...\n",
       "\n",
       "```python\n",
       "return (ketchup + mustard + onion) == 1\n",
       "```"
      ],
      "text/plain": [
       "Correct: \n",
       "\n",
       "This condition would be pretty complicated to express using just `and`, `or` and `not`, but using boolean-to-integer conversion gives us this short solution:\n",
       "```python\n",
       "return (int(ketchup) + int(mustard) + int(onion)) == 1\n",
       "```\n",
       "\n",
       "Fun fact: we don't technically need to call `int` on the arguments. Just by doing addition with booleans, Python implicitly does the integer conversion. So we could also write...\n",
       "\n",
       "```python\n",
       "return (ketchup + mustard + onion) == 1\n",
       "```"
      ]
     },
     "metadata": {},
     "output_type": "display_data"
    }
   ],
   "source": [
    "def exactly_one_topping(ketchup, mustard, onion):\n",
    "    \"\"\"Return whether the customer wants exactly one of the three available toppings\n",
    "    on their hot dog.\n",
    "    \"\"\"\n",
    "    return (ketchup and not mustard and not onion) or (mustard and not ketchup and not onion) or (onion and not ketchup and not mustard)\n",
    "\n",
    "\n",
    "# Check your answer\n",
    "q6.check()"
   ]
  },
  {
   "cell_type": "code",
   "execution_count": 21,
   "id": "3b478306",
   "metadata": {
    "execution": {
     "iopub.execute_input": "2022-02-25T10:14:19.667609Z",
     "iopub.status.busy": "2022-02-25T10:14:19.667011Z",
     "iopub.status.idle": "2022-02-25T10:14:19.669872Z",
     "shell.execute_reply": "2022-02-25T10:14:19.670370Z"
    },
    "papermill": {
     "duration": 0.054489,
     "end_time": "2022-02-25T10:14:19.670535",
     "exception": false,
     "start_time": "2022-02-25T10:14:19.616046",
     "status": "completed"
    },
    "tags": []
   },
   "outputs": [],
   "source": [
    "#q6.hint()\n",
    "#q6.solution()"
   ]
  },
  {
   "cell_type": "markdown",
   "id": "511d878b",
   "metadata": {
    "papermill": {
     "duration": 0.049429,
     "end_time": "2022-02-25T10:14:19.768377",
     "exception": false,
     "start_time": "2022-02-25T10:14:19.718948",
     "status": "completed"
    },
    "tags": []
   },
   "source": [
    "# 7. <span title=\"A bit spicy\" style=\"color: darkgreen \">🌶️</span> (Optional)\n",
    "\n",
    "In this problem we'll be working with a simplified version of [blackjack](https://en.wikipedia.org/wiki/Blackjack) (aka twenty-one). In this version there is one player (who you'll control) and a dealer. Play proceeds as follows:\n",
    "\n",
    "- The player is dealt two face-up cards. The dealer is dealt one face-up card.\n",
    "- The player may ask to be dealt another card ('hit') as many times as they wish. If the sum of their cards exceeds 21, they lose the round immediately.\n",
    "- The dealer then deals additional cards to himself until either:\n",
    "    - the sum of the dealer's cards exceeds 21, in which case the player wins the round\n",
    "    - the sum of the dealer's cards is greater than or equal to 17. If the player's total is greater than the dealer's, the player wins. Otherwise, the dealer wins (even in case of a tie).\n",
    "    \n",
    "When calculating the sum of cards, Jack, Queen, and King count for 10. Aces can count as 1 or 11 (when referring to a player's \"total\" above, we mean the largest total that can be made without exceeding 21. So e.g. A+8 = 19, A+8+8 = 17)\n",
    "\n",
    "For this problem, you'll write a function representing the player's decision-making strategy in this game. We've provided a very unintelligent implementation below:"
   ]
  },
  {
   "cell_type": "code",
   "execution_count": 22,
   "id": "90493233",
   "metadata": {
    "execution": {
     "iopub.execute_input": "2022-02-25T10:14:19.871923Z",
     "iopub.status.busy": "2022-02-25T10:14:19.871211Z",
     "iopub.status.idle": "2022-02-25T10:14:19.875441Z",
     "shell.execute_reply": "2022-02-25T10:14:19.876033Z"
    },
    "papermill": {
     "duration": 0.057767,
     "end_time": "2022-02-25T10:14:19.876210",
     "exception": false,
     "start_time": "2022-02-25T10:14:19.818443",
     "status": "completed"
    },
    "tags": []
   },
   "outputs": [],
   "source": [
    "def should_hit(dealer_total, player_total, player_low_aces, player_high_aces):\n",
    "    \"\"\"Return True if the player should hit (request another card) given the current game\n",
    "    state, or False if the player should stay.\"\"\"\n",
    "    \n",
    "    \"\"\"\"When calculating a hand's total value, we count aces as \"high\" (with value 11) if doing so\n",
    "    doesn't bring the total above 21, otherwise we count them as low (with value 1). \n",
    "    For example, if the player's hand is {A, A, A, 7}, we will count it as 11 + 1 + 1 + 7,\n",
    "    and therefore set player_total=20, player_low_aces=2, player_high_aces=1.\n",
    "    \"\"\"\n",
    "    return False"
   ]
  },
  {
   "cell_type": "markdown",
   "id": "c852e699",
   "metadata": {
    "papermill": {
     "duration": 0.049505,
     "end_time": "2022-02-25T10:14:19.975505",
     "exception": false,
     "start_time": "2022-02-25T10:14:19.926000",
     "status": "completed"
    },
    "tags": []
   },
   "source": [
    "This very conservative agent *always* sticks with the hand of two cards that they're dealt.\n",
    "\n",
    "We'll be simulating games between your player agent and our own dealer agent by calling your function.\n",
    "\n",
    "Try running the function below to see an example of a simulated game:"
   ]
  },
  {
   "cell_type": "code",
   "execution_count": 23,
   "id": "0211b329",
   "metadata": {
    "execution": {
     "iopub.execute_input": "2022-02-25T10:14:20.080030Z",
     "iopub.status.busy": "2022-02-25T10:14:20.079106Z",
     "iopub.status.idle": "2022-02-25T10:14:20.084673Z",
     "shell.execute_reply": "2022-02-25T10:14:20.084061Z"
    },
    "papermill": {
     "duration": 0.060335,
     "end_time": "2022-02-25T10:14:20.084842",
     "exception": false,
     "start_time": "2022-02-25T10:14:20.024507",
     "status": "completed"
    },
    "tags": []
   },
   "outputs": [
    {
     "name": "stdout",
     "output_type": "stream",
     "text": [
      "Player starts with 3 and A (total = 14)\n",
      "Dealer starts with Q\n",
      "\n",
      "__Player's turn__\n",
      "Player stays\n",
      "\n",
      "__Dealer's turn__\n",
      "Dealer hits and receives A. (total = 21)\n",
      "Dealer stands.\n",
      "Dealer wins. 21 >= 14\n"
     ]
    }
   ],
   "source": [
    "q7.simulate_one_game()"
   ]
  },
  {
   "cell_type": "markdown",
   "id": "1b148000",
   "metadata": {
    "papermill": {
     "duration": 0.049132,
     "end_time": "2022-02-25T10:14:20.184681",
     "exception": false,
     "start_time": "2022-02-25T10:14:20.135549",
     "status": "completed"
    },
    "tags": []
   },
   "source": [
    "The real test of your agent's mettle is their average win rate over many games. Try calling the function below to simulate 50000 games of blackjack (it may take a couple seconds):"
   ]
  },
  {
   "cell_type": "code",
   "execution_count": 24,
   "id": "e35cb04b",
   "metadata": {
    "execution": {
     "iopub.execute_input": "2022-02-25T10:14:20.293153Z",
     "iopub.status.busy": "2022-02-25T10:14:20.292421Z",
     "iopub.status.idle": "2022-02-25T10:14:22.244073Z",
     "shell.execute_reply": "2022-02-25T10:14:22.243461Z"
    },
    "papermill": {
     "duration": 2.009895,
     "end_time": "2022-02-25T10:14:22.244218",
     "exception": false,
     "start_time": "2022-02-25T10:14:20.234323",
     "status": "completed"
    },
    "tags": []
   },
   "outputs": [
    {
     "name": "stdout",
     "output_type": "stream",
     "text": [
      "Player won 18787 out of 50000 games (win rate = 37.6%)\n"
     ]
    }
   ],
   "source": [
    "q7.simulate(n_games=50000)"
   ]
  },
  {
   "cell_type": "markdown",
   "id": "ac7c8a13",
   "metadata": {
    "papermill": {
     "duration": 0.049977,
     "end_time": "2022-02-25T10:14:22.344262",
     "exception": false,
     "start_time": "2022-02-25T10:14:22.294285",
     "status": "completed"
    },
    "tags": []
   },
   "source": [
    "Our dumb agent that completely ignores the game state still manages to win shockingly often!\n",
    "\n",
    "Try adding some more smarts to the `should_hit` function and see how it affects the results."
   ]
  },
  {
   "cell_type": "code",
   "execution_count": 25,
   "id": "8f3fa834",
   "metadata": {
    "execution": {
     "iopub.execute_input": "2022-02-25T10:14:22.448764Z",
     "iopub.status.busy": "2022-02-25T10:14:22.448107Z",
     "iopub.status.idle": "2022-02-25T10:14:24.371510Z",
     "shell.execute_reply": "2022-02-25T10:14:24.372448Z"
    },
    "papermill": {
     "duration": 1.978128,
     "end_time": "2022-02-25T10:14:24.372697",
     "exception": false,
     "start_time": "2022-02-25T10:14:22.394569",
     "status": "completed"
    },
    "tags": []
   },
   "outputs": [
    {
     "name": "stdout",
     "output_type": "stream",
     "text": [
      "Player won 18952 out of 50000 games (win rate = 37.9%)\n"
     ]
    }
   ],
   "source": [
    "def should_hit(dealer_total, player_total, player_low_aces, player_high_aces):\n",
    "    \"\"\"Return True if the player should hit (request another card) given the current game\n",
    "    state, or False if the player should stay.\n",
    "    When calculating a hand's total value, we count aces as \"high\" (with value 11) if doing so\n",
    "    doesn't bring the total above 21, otherwise we count them as low (with value 1). \n",
    "    For example, if the player's hand is {A, A, A, 7}, we will count it as 11 + 1 + 1 + 7,\n",
    "    and therefore set player_total=20, player_low_aces=2, player_high_aces=1.\n",
    "    \"\"\"\n",
    "    return False\n",
    "\n",
    "q7.simulate(n_games=50000)"
   ]
  },
  {
   "cell_type": "markdown",
   "id": "208b316f",
   "metadata": {
    "papermill": {
     "duration": 0.051444,
     "end_time": "2022-02-25T10:14:24.476841",
     "exception": false,
     "start_time": "2022-02-25T10:14:24.425397",
     "status": "completed"
    },
    "tags": []
   },
   "source": [
    "# Keep Going\n",
    "\n",
    "Learn about **[lists and tuples](https://www.kaggle.com/colinmorris/lists)** to handle multiple items of data in a systematic way."
   ]
  },
  {
   "cell_type": "markdown",
   "id": "146b205d",
   "metadata": {
    "papermill": {
     "duration": 0.051665,
     "end_time": "2022-02-25T10:14:24.581382",
     "exception": false,
     "start_time": "2022-02-25T10:14:24.529717",
     "status": "completed"
    },
    "tags": []
   },
   "source": [
    "---\n",
    "\n",
    "\n",
    "\n",
    "\n",
    "*Have questions or comments? Visit the [course discussion forum](https://www.kaggle.com/learn/python/discussion) to chat with other learners.*"
   ]
  }
 ],
 "metadata": {
  "kernelspec": {
   "display_name": "Python 3",
   "language": "python",
   "name": "python3"
  },
  "language_info": {
   "codemirror_mode": {
    "name": "ipython",
    "version": 3
   },
   "file_extension": ".py",
   "mimetype": "text/x-python",
   "name": "python",
   "nbconvert_exporter": "python",
   "pygments_lexer": "ipython3",
   "version": "3.7.12"
  },
  "papermill": {
   "default_parameters": {},
   "duration": 19.286133,
   "end_time": "2022-02-25T10:14:25.244408",
   "environment_variables": {},
   "exception": null,
   "input_path": "__notebook__.ipynb",
   "output_path": "__notebook__.ipynb",
   "parameters": {},
   "start_time": "2022-02-25T10:14:05.958275",
   "version": "2.3.3"
  }
 },
 "nbformat": 4,
 "nbformat_minor": 5
}
